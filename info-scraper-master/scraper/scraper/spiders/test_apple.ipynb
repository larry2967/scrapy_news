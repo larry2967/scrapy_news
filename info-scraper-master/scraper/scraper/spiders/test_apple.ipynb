{
 "cells": [
  {
   "cell_type": "code",
   "execution_count": 67,
   "metadata": {},
   "outputs": [],
   "source": [
    "import requests\n",
    "from bs4 import BeautifulSoup\n",
    "from urllib.parse import quote\n",
    "import json\n",
    "import re"
   ]
  },
  {
   "cell_type": "code",
   "execution_count": 5,
   "metadata": {},
   "outputs": [],
   "source": [
    "keyword_list = ['吸金','地下通匯','洗錢','賭博','販毒','走私','仿冒','犯罪集團','侵占','背信','內線交易','行賄','詐貸','詐欺','貪汙','逃稅']\n",
    "url_pattern = 'https://tw.appledaily.com/search/{}/'\n",
    "api_pattern = 'https://tw.appledaily.com/pf/api/v3/content/fetch/search-query?query=%7B%22searchTerm{}start%22%3A{}%7D&d=170&_website=tw-appledaily'\n"
   ]
  },
  {
   "cell_type": "code",
   "execution_count": 28,
   "metadata": {},
   "outputs": [],
   "source": [
    "key_dict = {'吸金':'%22%3A%22%25E5%2590%25B8%25E9%2587%2591%22%2C%22','地下通匯':'%22%3A%22%25E5%259C%25B0%25E4%25B8%258B%25E9%2580%259A%25E5%258C%25AF%22%2C%22','洗錢':'%22%3A%22%25E6%25B4%2597%25E9%258C%25A2%22%2C%22','賭博':'%22%3A%22%25E8%25B3%25AD%25E5%258D%259A%22%2C%22','販毒':'%22%3A%22%25E8%25B2%25A9%25E6%25AF%2592%22%2C%22','走私':'%22%3A%22%25E8%25B5%25B0%25E7%25A7%2581%22%2C%22','仿冒':'%22%3A%22%25E4%25BB%25BF%25E5%2586%2592%22%2C%22','犯罪集團':'%22%3A%22%25E7%258A%25AF%25E7%25BD%25AA%25E9%259B%2586%25E5%259C%2598%22%2C%22','侵占':'%22%3A%22%25E4%25BE%25B5%25E4%25BD%2594%22%2C%22','背信':'%22%3A%22%25E8%2583%258C%25E4%25BF%25A1%22%2C%22','內線交易':'%22%3A%22%25E5%2585%25A7%25E7%25B7%259A%25E4%25BA%25A4%25E6%2598%2593%22%2C%22','行賄':'%22%3A%22%25E8%25A1%258C%25E8%25B3%2584%22%2C%22','詐貸':'%22%3A%22%25E8%25A9%2590%25E8%25B2%25B8%22%2C%22','詐欺':'%22%3A%22%25E8%25A9%2590%25E6%25AC%25BA%22%2C%22','貪汙':'%22%3A%22%25E8%25B2%25AA%25E6%25B1%25A1%22%2C%22','逃稅':'%22%3A%22%25E9%2580%2583%25E7%25A8%2585%22%2C%22'}"
   ]
  },
  {
   "cell_type": "code",
   "execution_count": 6,
   "metadata": {},
   "outputs": [],
   "source": [
    "list_req = requests.get(url.format('吸金'))\n",
    "#將整個網站的程式碼爬下來\n",
    "soup = BeautifulSoup(list_req.content, \"html.parser\")"
   ]
  },
  {
   "cell_type": "code",
   "execution_count": null,
   "metadata": {},
   "outputs": [],
   "source": [
    "soup"
   ]
  },
  {
   "cell_type": "code",
   "execution_count": 11,
   "metadata": {},
   "outputs": [],
   "source": [
    "image = soup.find_all('div',{'class':'image_container'})"
   ]
  },
  {
   "cell_type": "code",
   "execution_count": 12,
   "metadata": {},
   "outputs": [
    {
     "data": {
      "text/plain": [
       "[]"
      ]
     },
     "execution_count": 12,
     "metadata": {},
     "output_type": "execute_result"
    }
   ],
   "source": [
    "'%7B%22searchTerm%22%3A%22%25E5%2590%25B8%25E9%2587%2591%22%2C%22start%22%3A0%7D'"
   ]
  },
  {
   "cell_type": "code",
   "execution_count": 27,
   "metadata": {},
   "outputs": [
    {
     "name": "stdout",
     "output_type": "stream",
     "text": [
      "%A7l%AA%F7\n"
     ]
    }
   ],
   "source": [
    "print(quote('吸金'.encode('big5')))"
   ]
  },
  {
   "cell_type": "code",
   "execution_count": 1,
   "metadata": {},
   "outputs": [],
   "source": [
    "requests = []\n",
    "#關鍵字\n",
    "api_pattern = 'https://tw.appledaily.com/pf/api/v3/content/fetch/search-query?query=%7B%22searchTerm{}start%22%3A{}%7D&d=170&_website=tw-appledaily'\n",
    "key_dict = {'吸金':'%22%3A%22%25E5%2590%25B8%25E9%2587%2591%22%2C%22','地下通匯':'%22%3A%22%25E5%259C%25B0%25E4%25B8%258B%25E9%2580%259A%25E5%258C%25AF%22%2C%22','洗錢':'%22%3A%22%25E6%25B4%2597%25E9%258C%25A2%22%2C%22','賭博':'%22%3A%22%25E8%25B3%25AD%25E5%258D%259A%22%2C%22','販毒':'%22%3A%22%25E8%25B2%25A9%25E6%25AF%2592%22%2C%22','走私':'%22%3A%22%25E8%25B5%25B0%25E7%25A7%2581%22%2C%22','仿冒':'%22%3A%22%25E4%25BB%25BF%25E5%2586%2592%22%2C%22','犯罪集團':'%22%3A%22%25E7%258A%25AF%25E7%25BD%25AA%25E9%259B%2586%25E5%259C%2598%22%2C%22','侵占':'%22%3A%22%25E4%25BE%25B5%25E4%25BD%2594%22%2C%22','背信':'%22%3A%22%25E8%2583%258C%25E4%25BF%25A1%22%2C%22','內線交易':'%22%3A%22%25E5%2585%25A7%25E7%25B7%259A%25E4%25BA%25A4%25E6%2598%2593%22%2C%22','行賄':'%22%3A%22%25E8%25A1%258C%25E8%25B3%2584%22%2C%22','詐貸':'%22%3A%22%25E8%25A9%2590%25E8%25B2%25B8%22%2C%22','詐欺':'%22%3A%22%25E8%25A9%2590%25E6%25AC%25BA%22%2C%22','貪汙':'%22%3A%22%25E8%25B2%25AA%25E6%25B1%25A1%22%2C%22','逃稅':'%22%3A%22%25E9%2580%2583%25E7%25A8%2585%22%2C%22'}"
   ]
  },
  {
   "cell_type": "code",
   "execution_count": 11,
   "metadata": {},
   "outputs": [
    {
     "data": {
      "text/plain": [
       "'https://tw.appledaily.com/pf/api/v3/content/fetch/search-query?query=%7B%22searchTermabcstart%22%3A20%7D&d=170&_website=tw-appledaily'"
      ]
     },
     "execution_count": 11,
     "metadata": {},
     "output_type": "execute_result"
    }
   ],
   "source": [
    "api_pattern.format('abc',str(20))"
   ]
  },
  {
   "cell_type": "code",
   "execution_count": 2,
   "metadata": {},
   "outputs": [],
   "source": [
    "for key in key＿dict.values():\n",
    "    for i in range(0,200,20):\n",
    "        api_pattern = 'https://tw.appledaily.com/pf/api/v3/content/fetch/search-query?query=%7B%22searchTerm{}start%22%3A{}%7D&d=170&_website=tw-appledaily'\n",
    "        api_pattern = api_pattern.format(key,str(i))\n",
    "        item = {\"media\": \"appledaily\",\n",
    "            \"name\": \"\",\n",
    "            \"enabled\": True,\n",
    "            \"days_limit\": 3600 * 24 * 0.5,\n",
    "            \"interval\": 3600 * 2,\n",
    "            \"url\": api_pattern,\n",
    "            \"scrapy_key\": \"appledaily:start_urls\",\n",
    "            \"priority\": 1}\n",
    "        requests.append(item)"
   ]
  },
  {
   "cell_type": "code",
   "execution_count": 5,
   "metadata": {},
   "outputs": [],
   "source": [
    "url_a = 'https://tw.appledaily.com/pf/api/v3/content/fetch/search-query?query=%7B%22searchTerm%22%3A%22%25E5%2590%25B8%25E9%2587%2591%22%2C%22start%22%3A0%7D&d=170&_website=tw-appledaily'\n",
    "list_req = requests.get(url_a)\n",
    "soup = json.loads(list_req.content)"
   ]
  },
  {
   "cell_type": "code",
   "execution_count": 15,
   "metadata": {},
   "outputs": [
    {
     "data": {
      "text/plain": [
       "'20201204'"
      ]
     },
     "execution_count": 15,
     "metadata": {},
     "output_type": "execute_result"
    }
   ],
   "source": [
    "soup['content'][0]['issueId']"
   ]
  },
  {
   "cell_type": "code",
   "execution_count": 21,
   "metadata": {},
   "outputs": [],
   "source": [
    "from datetime import datetime, timedelta"
   ]
  },
  {
   "cell_type": "code",
   "execution_count": 22,
   "metadata": {},
   "outputs": [],
   "source": [
    "now = datetime.now()"
   ]
  },
  {
   "cell_type": "code",
   "execution_count": 31,
   "metadata": {},
   "outputs": [],
   "source": [
    "past = now  - timedelta(seconds=3600 * 24 * 2)"
   ]
  },
  {
   "cell_type": "code",
   "execution_count": 32,
   "metadata": {},
   "outputs": [
    {
     "data": {
      "text/plain": [
       "datetime.datetime(2020, 12, 2, 11, 19, 58, 242826)"
      ]
     },
     "execution_count": 32,
     "metadata": {},
     "output_type": "execute_result"
    }
   ],
   "source": [
    "past"
   ]
  },
  {
   "cell_type": "code",
   "execution_count": 197,
   "metadata": {},
   "outputs": [],
   "source": [
    "url_b = 'https://www.cna.com.tw/news/asoc/202012030102.aspx'\n",
    "req = requests.get(url_b)\n",
    "soup = BeautifulSoup(req.content,'html.parser')"
   ]
  },
  {
   "cell_type": "code",
   "execution_count": 207,
   "metadata": {},
   "outputs": [],
   "source": [
    "a = soup.find('div',{'class':'paragraph'}).text"
   ]
  },
  {
   "cell_type": "code",
   "execution_count": 208,
   "metadata": {},
   "outputs": [
    {
     "data": {
      "text/plain": [
       "'（中央社記者葉臻桃園3日電）法務部調查局中機站聯合桃園市調查處等單位，破獲12名成員組成的跨國電信詐欺機房案，受騙者多為中國地區民眾，不法所得初估超過70萬人民幣；10人羈押禁見、2人交保候傳。調查局中機站表示，以陳姓男子為首的電話詐騙集團，1年多來在台灣南投、墾丁等處流竄，日前選在龍潭租用農舍作為詐欺機房，向中國地區不特定民眾進行詐騙。集團成員佯稱被害人個資外洩、遭人冒用涉及洗錢犯罪，要求被害人配合假公安在線上製作筆錄，並假扮檢察官誘騙被害人轉帳至人頭帳戶，不法所得初估超過人民幣70萬元。訂閱《早安世界》電子報 每天3分鐘掌握10件天下事 請輸入正確的電子信箱格式訂閱感謝您的訂閱！檢調表示，在偵查過程中，犯罪集團成員多次使用柯基犬「假遛狗」刺探檢調人員身分，經桃園地檢署指揮在11月25日攻堅破獲，逮捕機房成員12人，並查扣詐騙用手機、筆記型電腦等證物，由於部分證物遭破壞，經調查局資訊鑑識人員拼湊殘骸、以電腦鑑識技術破譯還原才取得犯罪事證。桃園地檢署表示，詐騙集團成員多為20歲至30歲年輕男子，不少人有詐欺前科，甚至因案被通緝；檢察官偵訊後，以涉犯刑法加重詐欺、組織犯罪條例等，且有逃亡、勾串共犯之虞，交保1人、向法院聲押11人，其中10 人羈押禁見，1人以新台幣8萬元交保候傳。（編輯：張銘坤）1091203法務部調查局中機站聯合桃園市調查處等單位，破獲12 名成員組成的跨國電信詐欺機房案，並查扣詐騙用手機、筆記型電腦等證物。中央社記者葉臻攝  109年12月3日法務部調查局中機站聯合桃園市調查處等單位，破獲跨國電信詐欺機房案，檢調表示，在偵查過程中，犯罪集團成員多次使用柯基犬「假遛狗」刺探檢調人員身分，經桃園地檢署指揮在11月25日攻堅破獲，逮捕機房成員12人。（翻攝照片）中央社記者葉臻傳真  109年12月3日法務部調查局中機站聯合桃園市調查處等單位，破獲12 名成員組成的跨國電信詐欺機房案，受騙者多為中國地區民眾，不法所得初估超過70萬人民幣；3日舉行破案記者會說明。中央社記者葉臻攝  109年12月3日'"
      ]
     },
     "execution_count": 208,
     "metadata": {},
     "output_type": "execute_result"
    }
   ],
   "source": [
    "a"
   ]
  },
  {
   "cell_type": "code",
   "execution_count": 204,
   "metadata": {},
   "outputs": [],
   "source": [
    "date = datetime.strptime( a , '%Y/%m/%d %H:%M')"
   ]
  },
  {
   "cell_type": "code",
   "execution_count": 205,
   "metadata": {},
   "outputs": [
    {
     "data": {
      "text/plain": [
       "datetime.datetime(2020, 12, 3, 14, 16)"
      ]
     },
     "execution_count": 205,
     "metadata": {},
     "output_type": "execute_result"
    }
   ],
   "source": [
    "date"
   ]
  },
  {
   "cell_type": "code",
   "execution_count": 124,
   "metadata": {},
   "outputs": [],
   "source": [
    "a = datetime.strptime( a , '%Y/%m/%d %H:%M')"
   ]
  },
  {
   "cell_type": "code",
   "execution_count": 126,
   "metadata": {},
   "outputs": [],
   "source": [
    "date = a.strftime('%Y-%m-%dT%H:%M:%S+0800')"
   ]
  },
  {
   "cell_type": "code",
   "execution_count": 127,
   "metadata": {},
   "outputs": [
    {
     "data": {
      "text/plain": [
       "'2020-11-23T10:09:00+0800'"
      ]
     },
     "execution_count": 127,
     "metadata": {},
     "output_type": "execute_result"
    }
   ],
   "source": []
  },
  {
   "cell_type": "code",
   "execution_count": null,
   "metadata": {},
   "outputs": [],
   "source": []
  }
 ],
 "metadata": {
  "kernelspec": {
   "display_name": "negative_news",
   "language": "python",
   "name": "negative_news"
  },
  "language_info": {
   "codemirror_mode": {
    "name": "ipython",
    "version": 3
   },
   "file_extension": ".py",
   "mimetype": "text/x-python",
   "name": "python",
   "nbconvert_exporter": "python",
   "pygments_lexer": "ipython3",
   "version": "3.7.9"
  }
 },
 "nbformat": 4,
 "nbformat_minor": 4
}
