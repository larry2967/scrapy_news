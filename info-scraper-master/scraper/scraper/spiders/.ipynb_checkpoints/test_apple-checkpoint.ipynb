{
 "cells": [
  {
   "cell_type": "code",
   "execution_count": 67,
   "metadata": {},
   "outputs": [],
   "source": [
    "import requests\n",
    "from bs4 import BeautifulSoup\n",
    "from urllib.parse import quote\n",
    "import json\n",
    "import re"
   ]
  },
  {
   "cell_type": "code",
   "execution_count": 5,
   "metadata": {},
   "outputs": [],
   "source": [
    "keyword_list = ['吸金','地下通匯','洗錢','賭博','販毒','走私','仿冒','犯罪集團','侵占','背信','內線交易','行賄','詐貸','詐欺','貪汙','逃稅']\n",
    "url_pattern = 'https://tw.appledaily.com/search/{}/'\n",
    "api_pattern = 'https://tw.appledaily.com/pf/api/v3/content/fetch/search-query?query=%7B%22searchTerm{}start%22%3A{}%7D&d=170&_website=tw-appledaily'\n"
   ]
  },
  {
   "cell_type": "code",
   "execution_count": 28,
   "metadata": {},
   "outputs": [],
   "source": [
    "key_dict = {'吸金':'%22%3A%22%25E5%2590%25B8%25E9%2587%2591%22%2C%22','地下通匯':'%22%3A%22%25E5%259C%25B0%25E4%25B8%258B%25E9%2580%259A%25E5%258C%25AF%22%2C%22','洗錢':'%22%3A%22%25E6%25B4%2597%25E9%258C%25A2%22%2C%22','賭博':'%22%3A%22%25E8%25B3%25AD%25E5%258D%259A%22%2C%22','販毒':'%22%3A%22%25E8%25B2%25A9%25E6%25AF%2592%22%2C%22','走私':'%22%3A%22%25E8%25B5%25B0%25E7%25A7%2581%22%2C%22','仿冒':'%22%3A%22%25E4%25BB%25BF%25E5%2586%2592%22%2C%22','犯罪集團':'%22%3A%22%25E7%258A%25AF%25E7%25BD%25AA%25E9%259B%2586%25E5%259C%2598%22%2C%22','侵占':'%22%3A%22%25E4%25BE%25B5%25E4%25BD%2594%22%2C%22','背信':'%22%3A%22%25E8%2583%258C%25E4%25BF%25A1%22%2C%22','內線交易':'%22%3A%22%25E5%2585%25A7%25E7%25B7%259A%25E4%25BA%25A4%25E6%2598%2593%22%2C%22','行賄':'%22%3A%22%25E8%25A1%258C%25E8%25B3%2584%22%2C%22','詐貸':'%22%3A%22%25E8%25A9%2590%25E8%25B2%25B8%22%2C%22','詐欺':'%22%3A%22%25E8%25A9%2590%25E6%25AC%25BA%22%2C%22','貪汙':'%22%3A%22%25E8%25B2%25AA%25E6%25B1%25A1%22%2C%22','逃稅':'%22%3A%22%25E9%2580%2583%25E7%25A8%2585%22%2C%22'}"
   ]
  },
  {
   "cell_type": "code",
   "execution_count": 6,
   "metadata": {},
   "outputs": [],
   "source": [
    "list_req = requests.get(url.format('吸金'))\n",
    "#將整個網站的程式碼爬下來\n",
    "soup = BeautifulSoup(list_req.content, \"html.parser\")"
   ]
  },
  {
   "cell_type": "code",
   "execution_count": null,
   "metadata": {},
   "outputs": [],
   "source": [
    "soup"
   ]
  },
  {
   "cell_type": "code",
   "execution_count": 11,
   "metadata": {},
   "outputs": [],
   "source": [
    "image = soup.find_all('div',{'class':'image_container'})"
   ]
  },
  {
   "cell_type": "code",
   "execution_count": 12,
   "metadata": {},
   "outputs": [
    {
     "data": {
      "text/plain": [
       "[]"
      ]
     },
     "execution_count": 12,
     "metadata": {},
     "output_type": "execute_result"
    }
   ],
   "source": [
    "'%7B%22searchTerm%22%3A%22%25E5%2590%25B8%25E9%2587%2591%22%2C%22start%22%3A0%7D'"
   ]
  },
  {
   "cell_type": "code",
   "execution_count": 27,
   "metadata": {},
   "outputs": [
    {
     "name": "stdout",
     "output_type": "stream",
     "text": [
      "%A7l%AA%F7\n"
     ]
    }
   ],
   "source": [
    "print(quote('吸金'.encode('big5')))"
   ]
  },
  {
   "cell_type": "code",
   "execution_count": 1,
   "metadata": {},
   "outputs": [],
   "source": [
    "requests = []\n",
    "#關鍵字\n",
    "api_pattern = 'https://tw.appledaily.com/pf/api/v3/content/fetch/search-query?query=%7B%22searchTerm{}start%22%3A{}%7D&d=170&_website=tw-appledaily'\n",
    "key_dict = {'吸金':'%22%3A%22%25E5%2590%25B8%25E9%2587%2591%22%2C%22','地下通匯':'%22%3A%22%25E5%259C%25B0%25E4%25B8%258B%25E9%2580%259A%25E5%258C%25AF%22%2C%22','洗錢':'%22%3A%22%25E6%25B4%2597%25E9%258C%25A2%22%2C%22','賭博':'%22%3A%22%25E8%25B3%25AD%25E5%258D%259A%22%2C%22','販毒':'%22%3A%22%25E8%25B2%25A9%25E6%25AF%2592%22%2C%22','走私':'%22%3A%22%25E8%25B5%25B0%25E7%25A7%2581%22%2C%22','仿冒':'%22%3A%22%25E4%25BB%25BF%25E5%2586%2592%22%2C%22','犯罪集團':'%22%3A%22%25E7%258A%25AF%25E7%25BD%25AA%25E9%259B%2586%25E5%259C%2598%22%2C%22','侵占':'%22%3A%22%25E4%25BE%25B5%25E4%25BD%2594%22%2C%22','背信':'%22%3A%22%25E8%2583%258C%25E4%25BF%25A1%22%2C%22','內線交易':'%22%3A%22%25E5%2585%25A7%25E7%25B7%259A%25E4%25BA%25A4%25E6%2598%2593%22%2C%22','行賄':'%22%3A%22%25E8%25A1%258C%25E8%25B3%2584%22%2C%22','詐貸':'%22%3A%22%25E8%25A9%2590%25E8%25B2%25B8%22%2C%22','詐欺':'%22%3A%22%25E8%25A9%2590%25E6%25AC%25BA%22%2C%22','貪汙':'%22%3A%22%25E8%25B2%25AA%25E6%25B1%25A1%22%2C%22','逃稅':'%22%3A%22%25E9%2580%2583%25E7%25A8%2585%22%2C%22'}"
   ]
  },
  {
   "cell_type": "code",
   "execution_count": 11,
   "metadata": {},
   "outputs": [
    {
     "data": {
      "text/plain": [
       "'https://tw.appledaily.com/pf/api/v3/content/fetch/search-query?query=%7B%22searchTermabcstart%22%3A20%7D&d=170&_website=tw-appledaily'"
      ]
     },
     "execution_count": 11,
     "metadata": {},
     "output_type": "execute_result"
    }
   ],
   "source": [
    "api_pattern.format('abc',str(20))"
   ]
  },
  {
   "cell_type": "code",
   "execution_count": 2,
   "metadata": {},
   "outputs": [],
   "source": [
    "for key in key＿dict.values():\n",
    "    for i in range(0,200,20):\n",
    "        api_pattern = 'https://tw.appledaily.com/pf/api/v3/content/fetch/search-query?query=%7B%22searchTerm{}start%22%3A{}%7D&d=170&_website=tw-appledaily'\n",
    "        api_pattern = api_pattern.format(key,str(i))\n",
    "        item = {\"media\": \"appledaily\",\n",
    "            \"name\": \"\",\n",
    "            \"enabled\": True,\n",
    "            \"days_limit\": 3600 * 24 * 0.5,\n",
    "            \"interval\": 3600 * 2,\n",
    "            \"url\": api_pattern,\n",
    "            \"scrapy_key\": \"appledaily:start_urls\",\n",
    "            \"priority\": 1}\n",
    "        requests.append(item)"
   ]
  },
  {
   "cell_type": "code",
   "execution_count": 5,
   "metadata": {},
   "outputs": [],
   "source": [
    "url_a = 'https://tw.appledaily.com/pf/api/v3/content/fetch/search-query?query=%7B%22searchTerm%22%3A%22%25E5%2590%25B8%25E9%2587%2591%22%2C%22start%22%3A0%7D&d=170&_website=tw-appledaily'\n",
    "list_req = requests.get(url_a)\n",
    "soup = json.loads(list_req.content)"
   ]
  },
  {
   "cell_type": "code",
   "execution_count": 15,
   "metadata": {},
   "outputs": [
    {
     "data": {
      "text/plain": [
       "'20201204'"
      ]
     },
     "execution_count": 15,
     "metadata": {},
     "output_type": "execute_result"
    }
   ],
   "source": [
    "soup['content'][0]['issueId']"
   ]
  },
  {
   "cell_type": "code",
   "execution_count": 21,
   "metadata": {},
   "outputs": [],
   "source": [
    "from datetime import datetime, timedelta"
   ]
  },
  {
   "cell_type": "code",
   "execution_count": 22,
   "metadata": {},
   "outputs": [],
   "source": [
    "now = datetime.now()"
   ]
  },
  {
   "cell_type": "code",
   "execution_count": 31,
   "metadata": {},
   "outputs": [],
   "source": [
    "past = now  - timedelta(seconds=3600 * 24 * 2)"
   ]
  },
  {
   "cell_type": "code",
   "execution_count": 32,
   "metadata": {},
   "outputs": [
    {
     "data": {
      "text/plain": [
       "datetime.datetime(2020, 12, 2, 11, 19, 58, 242826)"
      ]
     },
     "execution_count": 32,
     "metadata": {},
     "output_type": "execute_result"
    }
   ],
   "source": [
    "past"
   ]
  },
  {
   "cell_type": "code",
   "execution_count": 38,
   "metadata": {},
   "outputs": [],
   "source": [
    "url_b = 'https://tw.appledaily.com/property/20201204/EQHDP4YF6ZCPNN7NVHGXCCFFNU/'\n",
    "req = requests.get(url_b)\n",
    "soup = BeautifulSoup(req.content,'html.parser')"
   ]
  },
  {
   "cell_type": "code",
   "execution_count": 78,
   "metadata": {},
   "outputs": [
    {
     "data": {
      "text/plain": [
       "'林彤婕'"
      ]
     },
     "execution_count": 78,
     "metadata": {},
     "output_type": "execute_result"
    }
   ],
   "source": [
    "soup.find_all('p')[-1].text[-9:-6]"
   ]
  },
  {
   "cell_type": "code",
   "execution_count": 68,
   "metadata": {},
   "outputs": [],
   "source": [
    "pattern=re.compile(r\"=()\")"
   ]
  },
  {
   "cell_type": "code",
   "execution_count": 72,
   "metadata": {},
   "outputs": [
    {
     "data": {
      "text/plain": [
       "''"
      ]
     },
     "execution_count": 72,
     "metadata": {},
     "output_type": "execute_result"
    }
   ],
   "source": []
  },
  {
   "cell_type": "code",
   "execution_count": null,
   "metadata": {},
   "outputs": [],
   "source": []
  }
 ],
 "metadata": {
  "kernelspec": {
   "display_name": "negative_news",
   "language": "python",
   "name": "negative_news"
  },
  "language_info": {
   "codemirror_mode": {
    "name": "ipython",
    "version": 3
   },
   "file_extension": ".py",
   "mimetype": "text/x-python",
   "name": "python",
   "nbconvert_exporter": "python",
   "pygments_lexer": "ipython3",
   "version": "3.7.9"
  }
 },
 "nbformat": 4,
 "nbformat_minor": 4
}
