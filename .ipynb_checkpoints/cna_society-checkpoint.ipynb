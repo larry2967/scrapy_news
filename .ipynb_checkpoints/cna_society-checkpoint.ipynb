{
 "cells": [
  {
   "cell_type": "code",
   "execution_count": 12,
   "metadata": {},
   "outputs": [],
   "source": [
    "import requests\n",
    "from bs4 import BeautifulSoup\n",
    "from urllib.parse import quote\n",
    "import pandas as pd\n",
    "from datetime import datetime"
   ]
  },
  {
   "cell_type": "code",
   "execution_count": 13,
   "metadata": {},
   "outputs": [],
   "source": [
    "url = 'https://www.cna.com.tw/list/asoc.aspx' \n",
    "list_req = requests.get(url)\n",
    "soup = BeautifulSoup(list_req.content, \"html.parser\")"
   ]
  },
  {
   "cell_type": "code",
   "execution_count": 15,
   "metadata": {},
   "outputs": [],
   "source": [
    "getAllNew = soup.find('ul',{'id':\"jsMainList\"})"
   ]
  },
  {
   "cell_type": "code",
   "execution_count": 16,
   "metadata": {},
   "outputs": [
    {
     "data": {
      "text/plain": [
       "[<li><a href=\"https://www.cna.com.tw/news/asoc/202011230127.aspx\"><div class=\"listInfo\"><h2><span>台74線快速道路5車連環撞 3人受傷送醫</span></h2><div class=\"date\">2020/11/23 14:13</div></div></a></li>,\n",
       " <li><a href=\"https://www.cna.com.tw/news/asoc/202011230107.aspx\"><div class=\"wrap\"><img alt=\"通緝犯設求職陷阱雙向詐騙 誘外送員淪共犯\" src=\"https://imgcdn.cna.com.tw/www/WebPhotos/400/20201123/1024x768_20201123000029.jpg\"/></div><div class=\"listInfo\"><h2><span>通緝犯設求職陷阱雙向詐騙 誘外送員淪共犯</span></h2><div class=\"date\">2020/11/23 13:32</div></div></a></li>,\n",
       " <li><a href=\"https://www.cna.com.tw/news/asoc/202011230099.aspx\"><div class=\"listInfo\"><h2><span>立委指數罪併罰定刑惹民怨 像百貨血拼可打折</span></h2><div class=\"date\">2020/11/23 13:15</div></div></a></li>,\n",
       " <li><a href=\"https://www.cna.com.tw/news/firstnews/202011230098.aspx\"><div class=\"wrap\"><img alt=\"新北議員黃永昌涉詐領助理費2028萬 新北檢起訴\" class=\"lazyload\" data-src=\"https://imgcdn.cna.com.tw/www/webphotos/WebCover/420/20201123/683x512_418735042126.jpg\"/></div><div class=\"listInfo\"><h2><span>新北議員黃永昌涉詐領助理費2028萬 新北檢起訴</span></h2><div class=\"date\">2020/11/23 13:08</div></div></a></li>,\n",
       " <li><a href=\"https://www.cna.com.tw/news/asoc/202011230096.aspx\"><div class=\"listInfo\"><h2><span>2艘中國抽砂船流標 蔡碧仲：不排除沒入當靶船</span></h2><div class=\"date\">2020/11/23 13:01</div></div></a></li>,\n",
       " <li><a href=\"https://www.cna.com.tw/news/asoc/202011230094.aspx\"><div class=\"wrap\"><img alt=\"賓士撞傷機車騎士肇逃 男子自首遭抓包疑頂替\" class=\"lazyload\" data-src=\"https://imgcdn.cna.com.tw/www/WebPhotos/400/20201123/1024x768_20201123000033.jpg\"/></div><div class=\"listInfo\"><h2><span>賓士撞傷機車騎士肇逃 男子自首遭抓包疑頂替</span></h2><div class=\"date\">2020/11/23 12:44</div></div></a></li>,\n",
       " <li><a href=\"https://www.cna.com.tw/news/asoc/202011230080.aspx\"><div class=\"wrap\"><img alt=\"京華城工地坍塌釀一死 工安負責人及主任獲緩起訴\" class=\"lazyload\" data-src=\"https://imgcdn.cna.com.tw/www/webphotos/WebCover/420/20201123/873x655_490436917490.jpg\"/></div><div class=\"listInfo\"><h2><span>京華城工地坍塌釀一死 工安負責人及主任獲緩起訴</span></h2><div class=\"date\">2020/11/23 12:07</div></div></a></li>,\n",
       " <li><a href=\"https://www.cna.com.tw/news/asoc/202011230070.aspx\"><div class=\"wrap\"><img alt=\"F-16投誠假訊息 刑事局：偵辦是最好的遏止\" class=\"lazyload\" data-src=\"https://imgcdn.cna.com.tw/www/WebPhotos/400/20201123/1123x768_20201123000019.jpg\"/></div><div class=\"listInfo\"><h2><span>F-16投誠假訊息 刑事局：偵辦是最好的遏止</span></h2><div class=\"date\">2020/11/23 11:37</div></div></a></li>,\n",
       " <li><a href=\"https://www.cna.com.tw/news/firstnews/202011230055.aspx\"><div class=\"wrap\"><img alt=\"重機台3線南庄段「翹孤輪」 4騎士挨罰扣照送辦[影]\" class=\"lazyload\" data-src=\"https://imgcdn.cna.com.tw/www/webphotos/WebCover/420/20201123/799x600_542412807936.jpg\"/></div><div class=\"listInfo\"><h2><span>重機台3線南庄段「翹孤輪」 4騎士挨罰扣照送辦[影]</span></h2><div class=\"date\">2020/11/23 11:21</div></div></a></li>,\n",
       " <li><a href=\"https://www.cna.com.tw/news/firstnews/202011235004.aspx\"><div class=\"wrap\"><img alt=\"台中苗栗山區2死桶屍命案 5嫌收押1少年收容【更新】\" class=\"lazyload\" data-src=\"https://imgcdn.cna.com.tw/www/WebPhotos/400/20201123/800x600_753458852964.jpg\"/></div><div class=\"listInfo\"><h2><span>台中苗栗山區2死桶屍命案 5嫌收押1少年收容【更新】</span></h2><div class=\"date\">2020/11/23 10:28</div></div></a></li>,\n",
       " <li><a href=\"https://www.cna.com.tw/news/asoc/202011230035.aspx\"><div class=\"wrap\"><img alt=\"林榮基案判太輕 陳宗彥：全盤修正檢討社維法\" class=\"lazyload\" data-src=\"https://imgcdn.cna.com.tw/www/webphotos/WebCover/420/20201123/973x730_446033870187.jpg\"/></div><div class=\"listInfo\"><h2><span>林榮基案判太輕 陳宗彥：全盤修正檢討社維法</span></h2><div class=\"date\">2020/11/23 10:17</div></div></a></li>,\n",
       " <li><a href=\"https://www.cna.com.tw/news/firstnews/202011220193.aspx\"><div class=\"wrap\"><img alt=\"國3台南新化段6車追撞 1男命危送醫\" class=\"lazyload\" data-src=\"https://imgcdn.cna.com.tw/www/webphotos/WebCover/420/20201122/1024x768_46247809952.jpg\"/></div><div class=\"listInfo\"><h2><span>國3台南新化段6車追撞 1男命危送醫</span></h2><div class=\"date\">2020/11/22 22:02</div></div></a></li>,\n",
       " <li><a href=\"https://www.cna.com.tw/news/asoc/202011220190.aspx\"><div class=\"listInfo\"><h2><span>民眾遲收拜票簡訊 高閔琳遭檢舉挨罰50萬喊冤</span></h2><div class=\"date\">2020/11/22 21:33</div></div></a></li>,\n",
       " <li><a href=\"https://www.cna.com.tw/news/asoc/202011220187.aspx\"><div class=\"wrap\"><img alt=\"疑騎機車行車糾紛 男子腋下被刺一刀送醫\" class=\"lazyload\" data-src=\"https://imgcdn.cna.com.tw/www/WebPhotos/400/20201122/1152x768_20201122000133.jpg\"/></div><div class=\"listInfo\"><h2><span>疑騎機車行車糾紛 男子腋下被刺一刀送醫</span></h2><div class=\"date\">2020/11/22 21:25</div></div></a></li>,\n",
       " <li><a href=\"https://www.cna.com.tw/news/asoc/202011220179.aspx\"><div class=\"listInfo\"><h2><span>中鋼運通主管獨登柴山失聯 警消鎖定少女峰續尋人</span></h2><div class=\"date\">2020/11/22 20:22</div></div></a></li>,\n",
       " <li><a href=\"https://www.cna.com.tw/news/asoc/202011220169.aspx\"><div class=\"wrap\"><img alt=\"草屯垃圾場火警患難見真情 民眾暖心供宵夜口罩\" class=\"lazyload\" data-src=\"https://imgcdn.cna.com.tw/www/WebPhotos/400/20201122/1024x768_20201122000114.jpg\"/></div><div class=\"listInfo\"><h2><span>草屯垃圾場火警患難見真情 民眾暖心供宵夜口罩</span></h2><div class=\"date\">2020/11/22 19:15</div></div></a></li>,\n",
       " <li><a href=\"https://www.cna.com.tw/news/asoc/202011220167.aspx\"><div class=\"listInfo\"><h2><span>阿里山神木下馬拉松1選手休克 急救恢復心跳</span></h2><div class=\"date\">2020/11/22 19:06</div></div></a></li>,\n",
       " <li><a href=\"https://www.cna.com.tw/news/asoc/202011220144.aspx\"><div class=\"wrap\"><img alt=\"高雄補習班老師涉性侵女學生1年 橋檢偵辦\" class=\"lazyload\" data-src=\"https://imgcdn.cna.com.tw/www/webphotos/WebCover/420/20201122/1503x1128_978910086234.jpg\"/></div><div class=\"listInfo\"><h2><span>高雄補習班老師涉性侵女學生1年 橋檢偵辦</span></h2><div class=\"date\">2020/11/22 17:42</div></div></a></li>,\n",
       " <li><a href=\"https://www.cna.com.tw/news/firstnews/202011220098.aspx\"><div class=\"wrap\"><img alt=\"普悠瑪列車長驗票  遭男子追打\" class=\"lazyload\" data-src=\"https://imgcdn.cna.com.tw/www/webphotos/WebCover/420/20201122/800x600_874050277128.jpg\"/></div><div class=\"listInfo\"><h2><span>普悠瑪列車長驗票  遭男子追打</span></h2><div class=\"date\">2020/11/22 15:29</div></div></a></li>,\n",
       " <li><a href=\"https://www.cna.com.tw/news/asoc/202011220097.aspx\"><div class=\"listInfo\"><h2><span>騎車看手機拒檢挨罰1萬 女子提告抗罰勝訴</span></h2><div class=\"date\">2020/11/22 15:28</div></div></a></li>]"
      ]
     },
     "execution_count": 16,
     "metadata": {},
     "output_type": "execute_result"
    }
   ],
   "source": [
    "getAllNew.find_all('li')"
   ]
  },
  {
   "cell_type": "code",
   "execution_count": null,
   "metadata": {},
   "outputs": [],
   "source": [
    "url = url.format(page)\n",
    "    headers['Referer']  = headers['Referer'].format(page)\n",
    "    response = requests.request(\"POST\",url,headers=headers)\n",
    "    response_body = json.loads(response.content)"
   ]
  },
  {
   "cell_type": "code",
   "execution_count": 2,
   "metadata": {},
   "outputs": [
    {
     "name": "stdout",
     "output_type": "stream",
     "text": [
      "{\"Result\":\"Y\",\"ResultData\":{\"Category\":\"asoc\",\"CategoryName\":\"社會\",\"SubCategory\":[],\"NextPageIdx\":\"2\",\"MetaData\":{\"Title\":\"社會 | 中央社 CNA\",\"Description\":\"想知道黑心食品、空污危機、酒駕究責最新發展，及各地火災、民事、刑事案件發展，鎖定中央社社會即時新聞，一同關心台灣社會問題。\",\"KeyWords\":\"News,新聞,即時新聞,中央社\",\"Image\":\"https://imgcdn.cna.com.tw/www/images/pic_fb.jpg\",\"CanonicalUrl\":\"https://www.cna.com.tw/list/asoc.aspx\",\"DateCreated\":\"\",\"DateModified\":\"\",\"OgImage\":\"https://imgcdn.cna.com.tw/www/images/pic_fb.jpg\"},\"Items\":[{\"Idx\":0,\"Id\":\"202011260117\",\"ClassName\":\"社會\",\"PageUrl\":\"https://www.cna.com.tw/news/asoc/202011260117.aspx\",\"NewsTopicName\":\"\",\"NewsTopicType\":\"\",\"HeadLine\":\"代領海洛因郵包運毒2被告獲緩刑 苗檢提上訴\",\"CreateTime\":\"2020/11/26 13:11\",\"ImageS\":\"\",\"ImageM\":\"\",\"ImageL\":\"\",\"_Lev\":\"5\",\"_Channel\":\"facebook\"},{\"Idx\":1,\"Id\":\"202011260101\",\"ClassName\":\"社會\",\"PageUrl\":\"https://www.cna.com.tw/news/asoc/202011260101.aspx\",\"NewsTopicName\":\"\",\"NewsTopicType\":\"\",\"HeadLine\":\"丁小芹發監執行日未現身 新北檢簽發拘票拘提\",\"CreateTime\":\"2020/11/26 12:34\",\"ImageS\":\"https://imgcdn.cna.com.tw/www/webphotos/WebCover/420/20201126/800x600_915550255403.jpg\",\"ImageM\":\"https://imgcdn.cna.com.tw/www/webphotos/WebCover/420/20201126/800x600_915550255403.jpg\",\"ImageL\":\"https://imgcdn.cna.com.tw/www/webphotos/WebCover/800/20201126/800x600_915550255403.jpg\",\"_Lev\":\"5\",\"_Channel\":\"facebook,apho\"},{\"Idx\":2,\"Id\":\"202011260100\",\"ClassName\":\"社會\",\"PageUrl\":\"https://www.cna.com.tw/news/asoc/202011260100.aspx\",\"NewsTopicName\":\"\",\"NewsTopicType\":\"\",\"HeadLine\":\"台女在韓遭酒駕撞死 父母錄短片感謝籲繼續連署\",\"CreateTime\":\"2020/11/26 12:34\",\"ImageS\":\"\",\"ImageM\":\"\",\"ImageL\":\"\",\"_Lev\":\"5\",\"_Channel\":\"facebook\"},{\"Idx\":3,\"Id\":\"202011260097\",\"ClassName\":\"社會\",\"PageUrl\":\"https://www.cna.com.tw/news/asoc/202011260097.aspx\",\"NewsTopicName\":\"\",\"NewsTopicType\":\"\",\"HeadLine\":\"花蓮消防局人事主任出差突昏迷 送醫不治\",\"CreateTime\":\"2020/11/26 12:16\",\"ImageS\":\"\",\"ImageM\":\"\",\"ImageL\":\"\",\"_Lev\":\"5\",\"_Channel\":\"facebook\"},{\"Idx\":4,\"Id\":\"202011260070\",\"ClassName\":\"社會\",\"PageUrl\":\"https://www.cna.com.tw/news/asoc/202011260070.aspx\",\"NewsTopicName\":\"\",\"NewsTopicType\":\"\",\"HeadLine\":\"基市百餘桶沙拉油摔出貨車灑一地  路面油膩膩\",\"CreateTime\":\"2020/11/26 11:33\",\"ImageS\":\"https://imgcdn.cna.com.tw/www/WebPhotos/200/20201126/1024x768_20201126000021.jpg\",\"ImageM\":\"https://imgcdn.cna.com.tw/www/WebPhotos/400/20201126/1024x768_20201126000021.jpg\",\"ImageL\":\"https://imgcdn.cna.com.tw/www/WebPhotos/800/20201126/1024x768_20201126000021.jpg\",\"_Lev\":\"5\",\"_Channel\":\"facebook\"},{\"Idx\":5,\"Id\":\"202011260069\",\"ClassName\":\"社會\",\"PageUrl\":\"https://www.cna.com.tw/news/asoc/202011260069.aspx\",\"NewsTopicName\":\"\",\"NewsTopicType\":\"\",\"HeadLine\":\"台東縣議員林威志涉詐領助理費 百萬元交保\",\"CreateTime\":\"2020/11/26 11:32\",\"ImageS\":\"https://imgcdn.cna.com.tw/www/WebPhotos/200/20201126/1077x768_20201126000022.jpg\",\"ImageM\":\"https://imgcdn.cna.com.tw/www/WebPhotos/400/20201126/1077x768_20201126000022.jpg\",\"ImageL\":\"https://imgcdn.cna.com.tw/www/WebPhotos/800/20201126/1077x768_20201126000022.jpg\",\"_Lev\":\"5\",\"_Channel\":\"facebook\"},{\"Idx\":6,\"Id\":\"202011260032\",\"ClassName\":\"社會\",\"PageUrl\":\"https://www.cna.com.tw/news/asoc/202011260032.aspx\",\"NewsTopicName\":\"\",\"NewsTopicType\":\"\",\"HeadLine\":\"涉詐領助理費  台東縣議員林威志被聲押\",\"CreateTime\":\"2020/11/26 09:35\",\"ImageS\":\"\",\"ImageM\":\"\",\"ImageL\":\"\",\"_Lev\":\"5\",\"_Channel\":\"facebook\"},{\"Idx\":7,\"Id\":\"202011260027\",\"ClassName\":\"社會\",\"PageUrl\":\"https://www.cna.com.tw/news/asoc/202011260027.aspx\",\"NewsTopicName\":\"\",\"NewsTopicType\":\"\",\"HeadLine\":\"單親媽勒斃子女後輕生獲救  新北地院判死\",\"CreateTime\":\"2020/11/26 08:58\",\"ImageS\":\"\",\"ImageM\":\"\",\"ImageL\":\"\",\"_Lev\":\"5\",\"_Channel\":\"facebook\"},{\"Idx\":8,\"Id\":\"202011260021\",\"ClassName\":\"社會\",\"PageUrl\":\"https://www.cna.com.tw/news/firstnews/202011260021.aspx\",\"NewsTopicName\":\"\",\"NewsTopicType\":\"\",\"HeadLine\":\"前立委吳光訓涉操縱康友認購權證 300萬交保\",\"CreateTime\":\"2020/11/26 08:18\",\"ImageS\":\"https://imgcdn.cna.com.tw/www/webphotos/WebCover/420/20201126/1024x768_939641145241.jpg\",\"ImageM\":\"https://imgcdn.cna.com.tw/www/webphotos/WebCover/420/20201126/1024x768_939641145241.jpg\",\"ImageL\":\"https://imgcdn.cna.com.tw/www/webphotos/WebCover/800/20201126/1024x768_939641145241.jpg\",\"_Lev\":\"5\",\"_Channel\":\"firstnews,facebook,apho\"},{\"Idx\":9,\"Id\":\"202011250393\",\"ClassName\":\"社會\",\"PageUrl\":\"https://www.cna.com.tw/news/asoc/202011250393.aspx\",\"NewsTopicName\":\"\",\"NewsTopicType\":\"\",\"HeadLine\":\"操縱康友認購權證案 吳怡玎胞弟訊後請回\",\"CreateTime\":\"2020/11/25 23:10\",\"ImageS\":\"https://imgcdn.cna.com.tw/www/WebPhotos/200/20201125/1152x768_20201125000149.jpg\",\"ImageM\":\"https://imgcdn.cna.com.tw/www/WebPhotos/400/20201125/1152x768_20201125000149.jpg\",\"ImageL\":\"https://imgcdn.cna.com.tw/www/WebPhotos/800/20201125/1152x768_20201125000149.jpg\",\"_Lev\":\"5\",\"_Channel\":\"facebook\"},{\"Idx\":10,\"Id\":\"202011250390\",\"ClassName\":\"社會\",\"PageUrl\":\"https://www.cna.com.tw/news/asoc/202011250390.aspx\",\"NewsTopicName\":\"\",\"NewsTopicType\":\"\",\"HeadLine\":\"林口社團貼文自稱殺人 警速逮人證實是惡作劇\",\"CreateTime\":\"2020/11/25 22:59\",\"ImageS\":\"\",\"ImageM\":\"\",\"ImageL\":\"\",\"_Lev\":\"5\",\"_Channel\":\"facebook\"},{\"Idx\":11,\"Id\":\"202011250359\",\"ClassName\":\"社會\",\"PageUrl\":\"https://www.cna.com.tw/news/asoc/202011250359.aspx\",\"NewsTopicName\":\"\",\"NewsTopicType\":\"\",\"HeadLine\":\"戒護精神病患強制送醫倒地 屏警心肌梗塞\",\"CreateTime\":\"2020/11/25 21:03\",\"ImageS\":\"\",\"ImageM\":\"\",\"ImageL\":\"\",\"_Lev\":\"5\",\"_Channel\":\"facebook\"},{\"Idx\":12,\"Id\":\"202011250347\",\"ClassName\":\"社會\",\"PageUrl\":\"https://www.cna.com.tw/news/asoc/202011250347.aspx\",\"NewsTopicName\":\"\",\"NewsTopicType\":\"\",\"HeadLine\":\"台東縣議員林威志 遭檢調約談\",\"CreateTime\":\"2020/11/25 20:09\",\"ImageS\":\"\",\"ImageM\":\"\",\"ImageL\":\"\",\"_Lev\":\"5\",\"_Channel\":\"facebook\"},{\"Idx\":13,\"Id\":\"202011250335\",\"ClassName\":\"社會\",\"PageUrl\":\"https://www.cna.com.tw/news/asoc/202011250335.aspx\",\"NewsTopicName\":\"\",\"NewsTopicType\":\"\",\"HeadLine\":\"隱瞞凶宅出售遭提告 賣家與友人涉詐欺被起訴\",\"CreateTime\":\"2020/11/25 19:46\",\"ImageS\":\"\",\"ImageM\":\"\",\"ImageL\":\"\",\"_Lev\":\"5\",\"_Channel\":\"facebook\"},{\"Idx\":14,\"Id\":\"202011250317\",\"ClassName\":\"社會\",\"PageUrl\":\"https://www.cna.com.tw/news/asoc/202011250317.aspx\",\"NewsTopicName\":\"\",\"NewsTopicType\":\"\",\"HeadLine\":\"曾火場救出男童  桃園消防小隊長猝死備勤室\",\"CreateTime\":\"2020/11/25 19:02\",\"ImageS\":\"\",\"ImageM\":\"\",\"ImageL\":\"\",\"_Lev\":\"5\",\"_Channel\":\"facebook\"},{\"Idx\":15,\"Id\":\"202011250315\",\"ClassName\":\"社會\",\"PageUrl\":\"https://www.cna.com.tw/news/asoc/202011250315.aspx\",\"NewsTopicName\":\"\",\"NewsTopicType\":\"\",\"HeadLine\":\"八德外役監獄首推企業進駐BOT案 共創多贏局面\",\"CreateTime\":\"2020/11/25 18:59\",\"ImageS\":\"https://imgcdn.cna.com.tw/www/WebPhotos/200/20201125/1047x768_20201125000118.jpg\",\"ImageM\":\"https://imgcdn.cna.com.tw/www/WebPhotos/400/20201125/1047x768_20201125000118.jpg\",\"ImageL\":\"https://imgcdn.cna.com.tw/www/WebPhotos/800/20201125/1047x768_20201125000118.jpg\",\"_Lev\":\"5\",\"_Channel\":\"facebook,apho\"},{\"Idx\":16,\"Id\":\"202011250312\",\"ClassName\":\"社會\",\"PageUrl\":\"https://www.cna.com.tw/news/asoc/202011250312.aspx\",\"NewsTopicName\":\"\",\"NewsTopicType\":\"\",\"HeadLine\":\"八仙塵爆案 4傷者獲判賠共4917萬餘元\",\"CreateTime\":\"2020/11/25 18:51\",\"ImageS\":\"\",\"ImageM\":\"\",\"ImageL\":\"\",\"_Lev\":\"5\",\"_Channel\":\"facebook\"},{\"Idx\":17,\"Id\":\"202011250294\",\"ClassName\":\"社會\",\"PageUrl\":\"https://www.cna.com.tw/news/firstnews/202011250294.aspx\",\"NewsTopicName\":\"\",\"NewsTopicType\":\"\",\"HeadLine\":\"昔日童星王欣逸被控殺人案 二審加重判17年\",\"CreateTime\":\"2020/11/25 18:20\",\"ImageS\":\"https://imgcdn.cna.com.tw/www/webphotos/WebCover/420/20201125/1473x1105_113632084216.jpg\",\"ImageM\":\"https://imgcdn.cna.com.tw/www/webphotos/WebCover/420/20201125/1473x1105_113632084216.jpg\",\"ImageL\":\"https://imgcdn.cna.com.tw/www/webphotos/WebCover/800/20201125/1473x1105_113632084216.jpg\",\"_Lev\":\"5\",\"_Channel\":\"firstnews,facebook,apho\"},{\"Idx\":18,\"Id\":\"202011250292\",\"ClassName\":\"社會\",\"PageUrl\":\"https://www.cna.com.tw/news/asoc/202011250292.aspx\",\"NewsTopicName\":\"\",\"NewsTopicType\":\"\",\"HeadLine\":\"男開失竊貨車撞死人獲交保 中檢提抗告\",\"CreateTime\":\"2020/11/25 18:18\",\"ImageS\":\"\",\"ImageM\":\"\",\"ImageL\":\"\",\"_Lev\":\"5\",\"_Channel\":\"facebook\"},{\"Idx\":19,\"Id\":\"202011250279\",\"ClassName\":\"社會\",\"PageUrl\":\"https://www.cna.com.tw/news/asoc/202011250279.aspx\",\"NewsTopicName\":\"\",\"NewsTopicType\":\"\",\"HeadLine\":\"北市警局人事調整71人 含7名副分局長\",\"CreateTime\":\"2020/11/25 17:52\",\"ImageS\":\"\",\"ImageM\":\"\",\"ImageL\":\"\",\"_Lev\":\"5\",\"_Channel\":\"facebook\"}]}}\n"
     ]
    }
   ],
   "source": [
    "import requests\n",
    "\n",
    "url = \"https://www.cna.com.tw/cna2018api/api/WNewsList\"\n",
    "\n",
    "payload=\"{\\\"action\\\":\\\"0\\\",\\\"category\\\":\\\"asoc\\\",\\\"pagesize\\\":\\\"20\\\",\\\"pageidx\\\":1}\"\n",
    "headers = {\n",
    "  'authority': 'www.cna.com.tw',\n",
    "  'sec-ch-ua': '\"Chromium\";v=\"86\", \"\"Not\\\\A;Brand\";v=\"99\", \"Google Chrome\";v=\"86\"',\n",
    "  'accept': 'application/json, text/javascript, */*; q=0.01',\n",
    "  'x-requested-with': 'XMLHttpRequest',\n",
    "  'sec-ch-ua-mobile': '?0',\n",
    "  'user-agent': 'Mozilla/5.0 (Macintosh; Intel Mac OS X 10_15_7) AppleWebKit/537.36 (KHTML, like Gecko) Chrome/86.0.4240.111 Safari/537.36',\n",
    "  'content-type': 'application/json',\n",
    "  'origin': 'https://www.cna.com.tw',\n",
    "  'sec-fetch-site': 'same-origin',\n",
    "  'sec-fetch-mode': 'cors',\n",
    "  'sec-fetch-dest': 'empty',\n",
    "  'referer': 'https://www.cna.com.tw/list/asoc.aspx',\n",
    "  'accept-language': 'zh-TW,zh;q=0.9,en-US;q=0.8,en;q=0.7',\n",
    "  'cookie': 'ASP.NET_SessionId=hhql1tqyberadyrrhgzggyuq; __auc=bb901549175f3d8f68ce4014d78; _ga=GA1.3.1566804492.1606113884; CnaCloseLanguage=1; _ss_pp_id=352969d2ce662f351b61606091023200; _gid=GA1.3.793627352.1606288225; __asc=e386fcb3176031787bc01ce5f0b; _gat_UA-6826760-1=1; _td=1de31c82-4a0f-4179-9320-d8f73f6d096b; ASP.NET_SessionId=c143j3iegdb1dqs0bsoihbxy'\n",
    "}\n",
    "\n",
    "response = requests.request(\"POST\", url, headers=headers, data=payload)\n",
    "\n",
    "print(response.text)"
   ]
  },
  {
   "cell_type": "code",
   "execution_count": 25,
   "metadata": {},
   "outputs": [
    {
     "name": "stdout",
     "output_type": "stream",
     "text": [
      "{\"Result\":\"Y\",\"ResultData\":{\"Category\":\"asoc\",\"CategoryName\":\"社會\",\"SubCategory\":[],\"NextPageIdx\":\"5\",\"MetaData\":{\"Title\":\"社會 | 中央社 CNA\",\"Description\":\"想知道黑心食品、空污危機、酒駕究責最新發展，及各地火災、民事、刑事案件發展，鎖定中央社社會即時新聞，一同關心台灣社會問題。\",\"KeyWords\":\"News,新聞,即時新聞,中央社\",\"Image\":\"https://imgcdn.cna.com.tw/www/images/pic_fb.jpg\",\"CanonicalUrl\":\"https://www.cna.com.tw/list/asoc.aspx\",\"DateCreated\":\"\",\"DateModified\":\"\",\"OgImage\":\"https://imgcdn.cna.com.tw/www/images/pic_fb.jpg\"},\"Items\":[{\"Idx\":0,\"Id\":\"202011200165\",\"ClassName\":\"社會\",\"PageUrl\":\"https://www.cna.com.tw/news/asoc/202011200165.aspx\",\"NewsTopicName\":\"\",\"NewsTopicType\":\"\",\"HeadLine\":\"民雄警分局木造舊宿舍起火  幸未延燒\",\"CreateTime\":\"2020/11/20 15:52\",\"ImageS\":\"https://imgcdn.cna.com.tw/www/WebPhotos/200/20201120/1024x768_20201120000070.jpg\",\"ImageM\":\"https://imgcdn.cna.com.tw/www/WebPhotos/400/20201120/1024x768_20201120000070.jpg\",\"ImageL\":\"https://imgcdn.cna.com.tw/www/WebPhotos/800/20201120/1024x768_20201120000070.jpg\",\"_Lev\":\"5\",\"_Channel\":\"facebook\"},{\"Idx\":1,\"Id\":\"202011200153\",\"ClassName\":\"社會\",\"PageUrl\":\"https://www.cna.com.tw/news/firstnews/202011200153.aspx\",\"NewsTopicName\":\"\",\"NewsTopicType\":\"\",\"HeadLine\":\"南投草屯垃圾場大火 無焚化爐老問題再引議論\",\"CreateTime\":\"2020/11/20 15:20\",\"ImageS\":\"https://imgcdn.cna.com.tw/www/webphotos/WebCover/420/20201120/1025x768_902233122190.jpg\",\"ImageM\":\"https://imgcdn.cna.com.tw/www/webphotos/WebCover/420/20201120/1025x768_902233122190.jpg\",\"ImageL\":\"https://imgcdn.cna.com.tw/www/webphotos/WebCover/800/20201120/1025x768_902233122190.jpg\",\"_Lev\":\"5\",\"_Channel\":\"firstnews,facebook,apho\"},{\"Idx\":2,\"Id\":\"202011200147\",\"ClassName\":\"社會\",\"PageUrl\":\"https://www.cna.com.tw/news/asoc/202011200147.aspx\",\"NewsTopicName\":\"\",\"NewsTopicType\":\"\",\"HeadLine\":\"草屯掩埋場火警 環保署：協調外縣市助處理垃圾\",\"CreateTime\":\"2020/11/20 15:05\",\"ImageS\":\"\",\"ImageM\":\"\",\"ImageL\":\"\",\"_Lev\":\"5\",\"_Channel\":\"facebook\"},{\"Idx\":3,\"Id\":\"202011200126\",\"ClassName\":\"社會\",\"PageUrl\":\"https://www.cna.com.tw/news/asoc/202011200126.aspx\",\"NewsTopicName\":\"\",\"NewsTopicType\":\"\",\"HeadLine\":\"被控收賄  蘇震清：與李恆隆是借貸關係\",\"CreateTime\":\"2020/11/20 14:18\",\"ImageS\":\"\",\"ImageM\":\"\",\"ImageL\":\"\",\"_Lev\":\"5\",\"_Channel\":\"facebook\"},{\"Idx\":4,\"Id\":\"202011200116\",\"ClassName\":\"社會\",\"PageUrl\":\"https://www.cna.com.tw/news/firstnews/202011200116.aspx\",\"NewsTopicName\":\"\",\"NewsTopicType\":\"\",\"HeadLine\":\"墾丁社頂多處鐘乳石遭盜鋸 律師不捨：一年才長一公分\",\"CreateTime\":\"2020/11/20 13:49\",\"ImageS\":\"https://imgcdn.cna.com.tw/www/webphotos/WebCover/420/20201120/1024x768_988753156169.jpg\",\"ImageM\":\"https://imgcdn.cna.com.tw/www/webphotos/WebCover/420/20201120/1024x768_988753156169.jpg\",\"ImageL\":\"https://imgcdn.cna.com.tw/www/webphotos/WebCover/800/20201120/1024x768_988753156169.jpg\",\"_Lev\":\"5\",\"_Channel\":\"firstnews,facebook,apho\"},{\"Idx\":5,\"Id\":\"202011200114\",\"ClassName\":\"社會\",\"PageUrl\":\"https://www.cna.com.tw/news/firstnews/202011200114.aspx\",\"NewsTopicName\":\"\",\"NewsTopicType\":\"\",\"HeadLine\":\"檢察官未核准兼3社區主委還飆罵住戶 檢審會警告\",\"CreateTime\":\"2020/11/20 13:44\",\"ImageS\":\"https://imgcdn.cna.com.tw/www/webphotos/WebCover/420/20201120/1888x1415_477524707429.jpg\",\"ImageM\":\"https://imgcdn.cna.com.tw/www/webphotos/WebCover/420/20201120/1888x1415_477524707429.jpg\",\"ImageL\":\"https://imgcdn.cna.com.tw/www/webphotos/WebCover/800/20201120/1888x1415_477524707429.jpg\",\"_Lev\":\"5\",\"_Channel\":\"firstnews,facebook\"},{\"Idx\":6,\"Id\":\"202011200112\",\"ClassName\":\"社會\",\"PageUrl\":\"https://www.cna.com.tw/news/asoc/202011200112.aspx\",\"NewsTopicName\":\"\",\"NewsTopicType\":\"\",\"HeadLine\":\"指蘇嘉全喬司法 屏東縣議員王景山被依誹謗起訴\",\"CreateTime\":\"2020/11/20 13:37\",\"ImageS\":\"\",\"ImageM\":\"\",\"ImageL\":\"\",\"_Lev\":\"5\",\"_Channel\":\"facebook\"},{\"Idx\":7,\"Id\":\"202011200101\",\"ClassName\":\"社會\",\"PageUrl\":\"https://www.cna.com.tw/news/asoc/202011200101.aspx\",\"NewsTopicName\":\"\",\"NewsTopicType\":\"\",\"HeadLine\":\"侵權金酒周邊商品5千枚 金門刑大查獲送辦\",\"CreateTime\":\"2020/11/20 13:06\",\"ImageS\":\"https://imgcdn.cna.com.tw/www/WebPhotos/200/20201120/1152x768_20201120000035.jpg\",\"ImageM\":\"https://imgcdn.cna.com.tw/www/WebPhotos/400/20201120/1152x768_20201120000035.jpg\",\"ImageL\":\"https://imgcdn.cna.com.tw/www/WebPhotos/800/20201120/1152x768_20201120000035.jpg\",\"_Lev\":\"5\",\"_Channel\":\"facebook,apho\"},{\"Idx\":8,\"Id\":\"202011200095\",\"ClassName\":\"社會\",\"PageUrl\":\"https://www.cna.com.tw/news/asoc/202011200095.aspx\",\"NewsTopicName\":\"\",\"NewsTopicType\":\"\",\"HeadLine\":\"基隆男童9月猝死  保母無照先罰3萬元\",\"CreateTime\":\"2020/11/20 12:51\",\"ImageS\":\"\",\"ImageM\":\"\",\"ImageL\":\"\",\"_Lev\":\"5\",\"_Channel\":\"facebook\"},{\"Idx\":9,\"Id\":\"202011200092\",\"ClassName\":\"社會\",\"PageUrl\":\"https://www.cna.com.tw/news/asoc/202011200092.aspx\",\"NewsTopicName\":\"\",\"NewsTopicType\":\"\",\"HeadLine\":\"男子曾5次酒駕 出監後又喝酒開車害死友人遭訴\",\"CreateTime\":\"2020/11/20 12:45\",\"ImageS\":\"\",\"ImageM\":\"\",\"ImageL\":\"\",\"_Lev\":\"5\",\"_Channel\":\"facebook\"},{\"Idx\":10,\"Id\":\"202011200080\",\"ClassName\":\"社會\",\"PageUrl\":\"https://www.cna.com.tw/news/asoc/202011200080.aspx\",\"NewsTopicName\":\"\",\"NewsTopicType\":\"\",\"HeadLine\":\"工作船機械故障求助  海巡馳援有效控制漏油\",\"CreateTime\":\"2020/11/20 12:03\",\"ImageS\":\"https://imgcdn.cna.com.tw/www/WebPhotos/200/20201120/1703x768_20201120000031.jpg\",\"ImageM\":\"https://imgcdn.cna.com.tw/www/WebPhotos/400/20201120/1703x768_20201120000031.jpg\",\"ImageL\":\"https://imgcdn.cna.com.tw/www/WebPhotos/800/20201120/1703x768_20201120000031.jpg\",\"_Lev\":\"5\",\"_Channel\":\"facebook,apho\"},{\"Idx\":11,\"Id\":\"202011200075\",\"ClassName\":\"社會\",\"PageUrl\":\"https://www.cna.com.tw/news/asoc/202011200075.aspx\",\"NewsTopicName\":\"\",\"NewsTopicType\":\"\",\"HeadLine\":\"前桃園市議員張運炳涉賄選 判刑3年6月定讞\",\"CreateTime\":\"2020/11/20 11:47\",\"ImageS\":\"\",\"ImageM\":\"\",\"ImageL\":\"\",\"_Lev\":\"5\",\"_Channel\":\"facebook\"},{\"Idx\":12,\"Id\":\"202011200073\",\"ClassName\":\"社會\",\"PageUrl\":\"https://www.cna.com.tw/news/asoc/202011200073.aspx\",\"NewsTopicName\":\"國安局菸品案涉走私\",\"NewsTopicType\":\"A\",\"HeadLine\":\"菸品走私案  前警衛室主任等77人緩起訴\",\"CreateTime\":\"2020/11/20 11:43\",\"ImageS\":\"https://imgcdn.cna.com.tw/www/WebPhotos/200/20191227/800x600_217650902093.jpg\",\"ImageM\":\"https://imgcdn.cna.com.tw/www/WebPhotos/400/20191227/800x600_217650902093.jpg\",\"ImageL\":\"https://imgcdn.cna.com.tw/www/WebPhotos/800/20191227/800x600_217650902093.jpg\",\"_Lev\":\"5\",\"_Channel\":\"facebook,newstopic\"},{\"Idx\":13,\"Id\":\"202011200071\",\"ClassName\":\"社會\",\"PageUrl\":\"https://www.cna.com.tw/news/asoc/202011200071.aspx\",\"NewsTopicName\":\"\",\"NewsTopicType\":\"\",\"HeadLine\":\"南投草屯垃圾場大火 燃燒惡臭飄附近鄉鎮\",\"CreateTime\":\"2020/11/20 11:37\",\"ImageS\":\"https://imgcdn.cna.com.tw/www/WebPhotos/200/20201120/1367x768_20201120000016.jpg\",\"ImageM\":\"https://imgcdn.cna.com.tw/www/WebPhotos/400/20201120/1367x768_20201120000016.jpg\",\"ImageL\":\"https://imgcdn.cna.com.tw/www/WebPhotos/800/20201120/1367x768_20201120000016.jpg\",\"_Lev\":\"5\",\"_Channel\":\"facebook,apho\"},{\"Idx\":14,\"Id\":\"202011200070\",\"ClassName\":\"社會\",\"PageUrl\":\"https://www.cna.com.tw/news/asoc/202011200070.aspx\",\"NewsTopicName\":\"\",\"NewsTopicType\":\"\",\"HeadLine\":\"基隆實習警遭通緝犯開車撞傷 犯嫌台中落網\",\"CreateTime\":\"2020/11/20 11:30\",\"ImageS\":\"https://imgcdn.cna.com.tw/www/webphotos/WebCover/420/20201120/1024x768_990165927340.jpg\",\"ImageM\":\"https://imgcdn.cna.com.tw/www/webphotos/WebCover/420/20201120/1024x768_990165927340.jpg\",\"ImageL\":\"https://imgcdn.cna.com.tw/www/webphotos/WebCover/800/20201120/1024x768_990165927340.jpg\",\"_Lev\":\"5\",\"_Channel\":\"facebook\"},{\"Idx\":15,\"Id\":\"202011200049\",\"ClassName\":\"社會\",\"PageUrl\":\"https://www.cna.com.tw/news/asoc/202011200049.aspx\",\"NewsTopicName\":\"\",\"NewsTopicType\":\"\",\"HeadLine\":\"南檢破獲野生動物盜賣集團  傳喚29人收押2人\",\"CreateTime\":\"2020/11/20 10:48\",\"ImageS\":\"https://imgcdn.cna.com.tw/www/WebPhotos/200/20201120/768x1024_20201120000015.jpg\",\"ImageM\":\"https://imgcdn.cna.com.tw/www/WebPhotos/400/20201120/768x1024_20201120000015.jpg\",\"ImageL\":\"https://imgcdn.cna.com.tw/www/WebPhotos/800/20201120/768x1024_20201120000015.jpg\",\"_Lev\":\"5\",\"_Channel\":\"facebook,apho\"},{\"Idx\":16,\"Id\":\"202011200027\",\"ClassName\":\"社會\",\"PageUrl\":\"https://www.cna.com.tw/news/asoc/202011200027.aspx\",\"NewsTopicName\":\"\",\"NewsTopicType\":\"\",\"HeadLine\":\"北市2員警涉收賄  2酒店幹部遭聲押\",\"CreateTime\":\"2020/11/20 09:10\",\"ImageS\":\"\",\"ImageM\":\"\",\"ImageL\":\"\",\"_Lev\":\"5\",\"_Channel\":\"facebook\"},{\"Idx\":17,\"Id\":\"202011190363\",\"ClassName\":\"社會\",\"PageUrl\":\"https://www.cna.com.tw/news/asoc/202011190363.aspx\",\"NewsTopicName\":\"\",\"NewsTopicType\":\"\",\"HeadLine\":\"網路留言到長榮大學埋伏  男涉恐嚇送辦\",\"CreateTime\":\"2020/11/19 21:47\",\"ImageS\":\"\",\"ImageM\":\"\",\"ImageL\":\"\",\"_Lev\":\"5\",\"_Channel\":\"facebook\"},{\"Idx\":18,\"Id\":\"202011190359\",\"ClassName\":\"社會\",\"PageUrl\":\"https://www.cna.com.tw/news/asoc/202011190359.aspx\",\"NewsTopicName\":\"\",\"NewsTopicType\":\"\",\"HeadLine\":\"母遭浪捲落海 3名兒子跳水搶救\",\"CreateTime\":\"2020/11/19 21:28\",\"ImageS\":\"https://imgcdn.cna.com.tw/www/WebPhotos/200/20201119/1024x768_20201119000181.jpg\",\"ImageM\":\"https://imgcdn.cna.com.tw/www/WebPhotos/400/20201119/1024x768_20201119000181.jpg\",\"ImageL\":\"https://imgcdn.cna.com.tw/www/WebPhotos/800/20201119/1024x768_20201119000181.jpg\",\"_Lev\":\"5\",\"_Channel\":\"facebook\"},{\"Idx\":19,\"Id\":\"202011190338\",\"ClassName\":\"社會\",\"PageUrl\":\"https://www.cna.com.tw/news/asoc/202011190338.aspx\",\"NewsTopicName\":\"\",\"NewsTopicType\":\"\",\"HeadLine\":\"大馬籍歌手被控性侵 檢方諭令1萬元交保\",\"CreateTime\":\"2020/11/19 20:28\",\"ImageS\":\"https://imgcdn.cna.com.tw/www/WebPhotos/200/20201119/1103x768_20201119000172.jpg\",\"ImageM\":\"https://imgcdn.cna.com.tw/www/WebPhotos/400/20201119/1103x768_20201119000172.jpg\",\"ImageL\":\"https://imgcdn.cna.com.tw/www/WebPhotos/800/20201119/1103x768_20201119000172.jpg\",\"_Lev\":\"5\",\"_Channel\":\"facebook\"}]}}\n"
     ]
    }
   ],
   "source": [
    "import requests\n",
    "\n",
    "url = \"https://www.cna.com.tw/cna2018api/api/WNewsList\"\n",
    "\n",
    "payload=\"{\\\"action\\\":\\\"0\\\",\\\"category\\\":\\\"asoc\\\",\\\"pagesize\\\":\\\"20\\\",\\\"pageidx\\\":4}\"\n",
    "headers = {\n",
    "  'authority': 'www.cna.com.tw',\n",
    "  'sec-ch-ua': '\"Chromium\";v=\"86\", \"\"Not\\\\A;Brand\";v=\"99\", \"Google Chrome\";v=\"86\"',\n",
    "  'accept': 'application/json, text/javascript, */*; q=0.01',\n",
    "  'x-requested-with': 'XMLHttpRequest',\n",
    "  'sec-ch-ua-mobile': '?0',\n",
    "  'user-agent': 'Mozilla/5.0 (Macintosh; Intel Mac OS X 10_15_7) AppleWebKit/537.36 (KHTML, like Gecko) Chrome/86.0.4240.111 Safari/537.36',\n",
    "  'content-type': 'application/json',\n",
    "  'origin': 'https://www.cna.com.tw',\n",
    "  'sec-fetch-site': 'same-origin',\n",
    "  'sec-fetch-mode': 'cors',\n",
    "  'sec-fetch-dest': 'empty',\n",
    "  'referer': 'https://www.cna.com.tw/list/asoc.aspx',\n",
    "  'accept-language': 'zh-TW,zh;q=0.9,en-US;q=0.8,en;q=0.7',\n",
    "  'cookie': 'ASP.NET_SessionId=hhql1tqyberadyrrhgzggyuq; __auc=bb901549175f3d8f68ce4014d78; _ga=GA1.3.1566804492.1606113884; _gid=GA1.3.1749205380.1606113884; CnaCloseLanguage=1; __asc=90bf7ff8175f42c505ffc56cd9b; _ss_pp_id=352969d2ce662f351b61606091023200; _td=1de31c82-4a0f-4179-9320-d8f73f6d096b'\n",
    "}\n",
    "\n",
    "response = requests.request(\"POST\", url, headers=headers, data=payload)\n",
    "\n",
    "print(response.text)\n"
   ]
  },
  {
   "cell_type": "code",
   "execution_count": null,
   "metadata": {},
   "outputs": [],
   "source": []
  },
  {
   "cell_type": "code",
   "execution_count": null,
   "metadata": {},
   "outputs": [],
   "source": []
  }
 ],
 "metadata": {
  "kernelspec": {
   "display_name": "negative_news",
   "language": "python",
   "name": "negative_news"
  },
  "language_info": {
   "codemirror_mode": {
    "name": "ipython",
    "version": 3
   },
   "file_extension": ".py",
   "mimetype": "text/x-python",
   "name": "python",
   "nbconvert_exporter": "python",
   "pygments_lexer": "ipython3",
   "version": "3.7.9"
  }
 },
 "nbformat": 4,
 "nbformat_minor": 4
}
