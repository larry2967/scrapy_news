{
 "cells": [
  {
   "cell_type": "code",
   "execution_count": 3,
   "metadata": {},
   "outputs": [],
   "source": [
    "import pandas as pd\n",
    "import numpy as np\n",
    "import matplotlib.pyplot as plt"
   ]
  },
  {
   "cell_type": "code",
   "execution_count": 4,
   "metadata": {},
   "outputs": [],
   "source": [
    "xls = pd.ExcelFile('負面新聞.xlsm')\n",
    "df_2020 = xls.parse('2020年')\n",
    "df_2019 = xls.parse('2019年')\n",
    "df_2018 = xls.parse('2018年')\n",
    "df_2017 = xls.parse('2017年')\n",
    "df_2015 = xls.parse('2015年')\n",
    "df_2020.columns = ['姓名','重大新聞','新聞標題及備註','相關連結','domain_name']\n",
    "df_2019.columns = ['姓名','重大新聞','新聞標題及備註','相關連結','domain_name']\n",
    "df_2018.columns = ['姓名','重大新聞','新聞標題及備註','相關連結','domain_name']\n",
    "df_2017.columns = ['姓名','重大新聞','新聞標題及備註','相關連結','domain_name']\n",
    "df_2015.columns = ['姓名','重大新聞','新聞標題及備註','相關連結','domain_name']"
   ]
  },
  {
   "cell_type": "code",
   "execution_count": 5,
   "metadata": {},
   "outputs": [],
   "source": [
    "df_2020.drop(index=[0,1,2],inplace=True)\n",
    "df_2020 = df_2020.reset_index()\n",
    "df_2020.drop(columns=['index'],inplace=True)\n",
    "df_2019.drop(index=[0,1,2],inplace=True)\n",
    "df_2019 = df_2019.reset_index()\n",
    "df_2019.drop(columns=['index'],inplace=True)\n",
    "df_2018.drop(index=[0,1,2],inplace=True)\n",
    "df_2018 = df_2018.reset_index()\n",
    "df_2018.drop(columns=['index'],inplace=True)\n",
    "df_2017.drop(index=[0,1,2],inplace=True)\n",
    "df_2017 = df_2017.reset_index()\n",
    "df_2017.drop(columns=['index'],inplace=True)\n",
    "df_2015.drop(index=[0,1,2],inplace=True)\n",
    "df_2015 = df_2015.reset_index()\n",
    "df_2015.drop(columns=['index'],inplace=True)"
   ]
  },
  {
   "cell_type": "code",
   "execution_count": 6,
   "metadata": {},
   "outputs": [],
   "source": [
    "df_all = pd.concat((df_2020,df_2019,df_2018,df_2017,df_2015),axis=0)"
   ]
  },
  {
   "cell_type": "code",
   "execution_count": 7,
   "metadata": {},
   "outputs": [],
   "source": [
    "pd.set_option('display.max_rows', 100)\n",
    "pd_view = df_all.groupby('domain_name')['domain_name'].count().reset_index(name='count').sort_values(['count'], ascending=False)"
   ]
  },
  {
   "cell_type": "code",
   "execution_count": 8,
   "metadata": {},
   "outputs": [
    {
     "data": {
      "text/html": [
       "<div>\n",
       "<style scoped>\n",
       "    .dataframe tbody tr th:only-of-type {\n",
       "        vertical-align: middle;\n",
       "    }\n",
       "\n",
       "    .dataframe tbody tr th {\n",
       "        vertical-align: top;\n",
       "    }\n",
       "\n",
       "    .dataframe thead th {\n",
       "        text-align: right;\n",
       "    }\n",
       "</style>\n",
       "<table border=\"1\" class=\"dataframe\">\n",
       "  <thead>\n",
       "    <tr style=\"text-align: right;\">\n",
       "      <th></th>\n",
       "      <th>domain_name</th>\n",
       "      <th>count</th>\n",
       "    </tr>\n",
       "  </thead>\n",
       "  <tbody>\n",
       "    <tr>\n",
       "      <th>37</th>\n",
       "      <td>news.ltn.com.tw</td>\n",
       "      <td>678</td>\n",
       "    </tr>\n",
       "    <tr>\n",
       "      <th>6</th>\n",
       "      <td>chinatimes.com</td>\n",
       "      <td>409</td>\n",
       "    </tr>\n",
       "    <tr>\n",
       "      <th>58</th>\n",
       "      <td>udn.com</td>\n",
       "      <td>399</td>\n",
       "    </tr>\n",
       "    <tr>\n",
       "      <th>53</th>\n",
       "      <td>tw.appledaily.com</td>\n",
       "      <td>347</td>\n",
       "    </tr>\n",
       "    <tr>\n",
       "      <th>55</th>\n",
       "      <td>tw.news.appledaily.com</td>\n",
       "      <td>148</td>\n",
       "    </tr>\n",
       "    <tr>\n",
       "      <th>30</th>\n",
       "      <td>m.ltn.com.tw</td>\n",
       "      <td>137</td>\n",
       "    </tr>\n",
       "    <tr>\n",
       "      <th>56</th>\n",
       "      <td>tw.news.yahoo.com</td>\n",
       "      <td>120</td>\n",
       "    </tr>\n",
       "    <tr>\n",
       "      <th>18</th>\n",
       "      <td>ettoday.net</td>\n",
       "      <td>112</td>\n",
       "    </tr>\n",
       "    <tr>\n",
       "      <th>29</th>\n",
       "      <td>ltn.com.tw</td>\n",
       "      <td>78</td>\n",
       "    </tr>\n",
       "    <tr>\n",
       "      <th>8</th>\n",
       "      <td>cna.com.tw</td>\n",
       "      <td>68</td>\n",
       "    </tr>\n",
       "    <tr>\n",
       "      <th>32</th>\n",
       "      <td>money.udn.com</td>\n",
       "      <td>62</td>\n",
       "    </tr>\n",
       "    <tr>\n",
       "      <th>14</th>\n",
       "      <td>ec.ltn.com.tw</td>\n",
       "      <td>57</td>\n",
       "    </tr>\n",
       "    <tr>\n",
       "      <th>46</th>\n",
       "      <td>setn.com</td>\n",
       "      <td>28</td>\n",
       "    </tr>\n",
       "    <tr>\n",
       "      <th>31</th>\n",
       "      <td>mirrormedia.mg</td>\n",
       "      <td>25</td>\n",
       "    </tr>\n",
       "    <tr>\n",
       "      <th>39</th>\n",
       "      <td>news.tvbs.com.tw</td>\n",
       "      <td>20</td>\n",
       "    </tr>\n",
       "    <tr>\n",
       "      <th>3</th>\n",
       "      <td>appledaily.com</td>\n",
       "      <td>18</td>\n",
       "    </tr>\n",
       "    <tr>\n",
       "      <th>42</th>\n",
       "      <td>nextmag.com.tw</td>\n",
       "      <td>15</td>\n",
       "    </tr>\n",
       "    <tr>\n",
       "      <th>0</th>\n",
       "      <td>.ltn.com.tw</td>\n",
       "      <td>15</td>\n",
       "    </tr>\n",
       "    <tr>\n",
       "      <th>5</th>\n",
       "      <td>cdns.com.tw</td>\n",
       "      <td>15</td>\n",
       "    </tr>\n",
       "    <tr>\n",
       "      <th>59</th>\n",
       "      <td>upmedia.mg</td>\n",
       "      <td>12</td>\n",
       "    </tr>\n",
       "    <tr>\n",
       "      <th>41</th>\n",
       "      <td>newtalk.tw</td>\n",
       "      <td>9</td>\n",
       "    </tr>\n",
       "    <tr>\n",
       "      <th>57</th>\n",
       "      <td>tw.stock.yahoo.com</td>\n",
       "      <td>9</td>\n",
       "    </tr>\n",
       "    <tr>\n",
       "      <th>9</th>\n",
       "      <td>com</td>\n",
       "      <td>9</td>\n",
       "    </tr>\n",
       "    <tr>\n",
       "      <th>47</th>\n",
       "      <td>storm.mg</td>\n",
       "      <td>7</td>\n",
       "    </tr>\n",
       "    <tr>\n",
       "      <th>43</th>\n",
       "      <td>nownews.com</td>\n",
       "      <td>7</td>\n",
       "    </tr>\n",
       "    <tr>\n",
       "      <th>10</th>\n",
       "      <td>ctwant.com</td>\n",
       "      <td>7</td>\n",
       "    </tr>\n",
       "    <tr>\n",
       "      <th>34</th>\n",
       "      <td>news.ebc.net.tw</td>\n",
       "      <td>6</td>\n",
       "    </tr>\n",
       "    <tr>\n",
       "      <th>61</th>\n",
       "      <td>www.setn.com</td>\n",
       "      <td>6</td>\n",
       "    </tr>\n",
       "    <tr>\n",
       "      <th>52</th>\n",
       "      <td>tvbs.com.tw</td>\n",
       "      <td>6</td>\n",
       "    </tr>\n",
       "    <tr>\n",
       "      <th>51</th>\n",
       "      <td>today.line.me</td>\n",
       "      <td>6</td>\n",
       "    </tr>\n",
       "    <tr>\n",
       "      <th>11</th>\n",
       "      <td>cw.com.tw</td>\n",
       "      <td>6</td>\n",
       "    </tr>\n",
       "    <tr>\n",
       "      <th>45</th>\n",
       "      <td>ppledaily.com</td>\n",
       "      <td>5</td>\n",
       "    </tr>\n",
       "    <tr>\n",
       "      <th>12</th>\n",
       "      <td>e-info.org.tw</td>\n",
       "      <td>5</td>\n",
       "    </tr>\n",
       "    <tr>\n",
       "      <th>64</th>\n",
       "      <td>無效</td>\n",
       "      <td>5</td>\n",
       "    </tr>\n",
       "    <tr>\n",
       "      <th>24</th>\n",
       "      <td>hk.on.cc</td>\n",
       "      <td>5</td>\n",
       "    </tr>\n",
       "    <tr>\n",
       "      <th>25</th>\n",
       "      <td>hk01.com</td>\n",
       "      <td>5</td>\n",
       "    </tr>\n",
       "    <tr>\n",
       "      <th>49</th>\n",
       "      <td>times.hinet.net</td>\n",
       "      <td>4</td>\n",
       "    </tr>\n",
       "    <tr>\n",
       "      <th>16</th>\n",
       "      <td>epochtimes.com</td>\n",
       "      <td>4</td>\n",
       "    </tr>\n",
       "    <tr>\n",
       "      <th>2</th>\n",
       "      <td>anntw.com</td>\n",
       "      <td>4</td>\n",
       "    </tr>\n",
       "    <tr>\n",
       "      <th>4</th>\n",
       "      <td>businesstoday.com.tw</td>\n",
       "      <td>4</td>\n",
       "    </tr>\n",
       "    <tr>\n",
       "      <th>26</th>\n",
       "      <td>house.ettoday.net</td>\n",
       "      <td>4</td>\n",
       "    </tr>\n",
       "    <tr>\n",
       "      <th>27</th>\n",
       "      <td>ksnews.com.tw</td>\n",
       "      <td>4</td>\n",
       "    </tr>\n",
       "    <tr>\n",
       "      <th>28</th>\n",
       "      <td>line.me</td>\n",
       "      <td>4</td>\n",
       "    </tr>\n",
       "    <tr>\n",
       "      <th>17</th>\n",
       "      <td>estate.ltn.com.tw</td>\n",
       "      <td>4</td>\n",
       "    </tr>\n",
       "    <tr>\n",
       "      <th>40</th>\n",
       "      <td>news.yahoo.com</td>\n",
       "      <td>4</td>\n",
       "    </tr>\n",
       "    <tr>\n",
       "      <th>62</th>\n",
       "      <td>www.upmedia.mg</td>\n",
       "      <td>3</td>\n",
       "    </tr>\n",
       "    <tr>\n",
       "      <th>22</th>\n",
       "      <td>ftvnews.com.tw</td>\n",
       "      <td>3</td>\n",
       "    </tr>\n",
       "    <tr>\n",
       "      <th>33</th>\n",
       "      <td>news.cts.com.tw</td>\n",
       "      <td>2</td>\n",
       "    </tr>\n",
       "    <tr>\n",
       "      <th>1</th>\n",
       "      <td>agriharvest.tw</td>\n",
       "      <td>2</td>\n",
       "    </tr>\n",
       "    <tr>\n",
       "      <th>63</th>\n",
       "      <td>失效</td>\n",
       "      <td>2</td>\n",
       "    </tr>\n",
       "    <tr>\n",
       "      <th>35</th>\n",
       "      <td>news.ftv.com.tw</td>\n",
       "      <td>2</td>\n",
       "    </tr>\n",
       "    <tr>\n",
       "      <th>20</th>\n",
       "      <td>features.ltn.com.tw</td>\n",
       "      <td>2</td>\n",
       "    </tr>\n",
       "    <tr>\n",
       "      <th>21</th>\n",
       "      <td>fnc.ebc.net.tw</td>\n",
       "      <td>2</td>\n",
       "    </tr>\n",
       "    <tr>\n",
       "      <th>15</th>\n",
       "      <td>ent.ltn.com.tw</td>\n",
       "      <td>2</td>\n",
       "    </tr>\n",
       "    <tr>\n",
       "      <th>60</th>\n",
       "      <td>www.chinatimes.com</td>\n",
       "      <td>1</td>\n",
       "    </tr>\n",
       "    <tr>\n",
       "      <th>36</th>\n",
       "      <td>news.housefun.com.tw</td>\n",
       "      <td>1</td>\n",
       "    </tr>\n",
       "    <tr>\n",
       "      <th>44</th>\n",
       "      <td>peoplenews.tw</td>\n",
       "      <td>1</td>\n",
       "    </tr>\n",
       "    <tr>\n",
       "      <th>23</th>\n",
       "      <td>gotv.ctitv.com.tw</td>\n",
       "      <td>1</td>\n",
       "    </tr>\n",
       "    <tr>\n",
       "      <th>7</th>\n",
       "      <td>cib.gov.tw</td>\n",
       "      <td>1</td>\n",
       "    </tr>\n",
       "    <tr>\n",
       "      <th>38</th>\n",
       "      <td>news.pchome.com.tw</td>\n",
       "      <td>1</td>\n",
       "    </tr>\n",
       "    <tr>\n",
       "      <th>13</th>\n",
       "      <td>ebc.net.tw</td>\n",
       "      <td>1</td>\n",
       "    </tr>\n",
       "    <tr>\n",
       "      <th>50</th>\n",
       "      <td>tock.yahoo.com</td>\n",
       "      <td>1</td>\n",
       "    </tr>\n",
       "    <tr>\n",
       "      <th>48</th>\n",
       "      <td>taiwannews.com.tw</td>\n",
       "      <td>1</td>\n",
       "    </tr>\n",
       "    <tr>\n",
       "      <th>19</th>\n",
       "      <td>ews.yahoo.com</td>\n",
       "      <td>1</td>\n",
       "    </tr>\n",
       "    <tr>\n",
       "      <th>54</th>\n",
       "      <td>tw.entertainment.appledaily.com</td>\n",
       "      <td>1</td>\n",
       "    </tr>\n",
       "  </tbody>\n",
       "</table>\n",
       "</div>"
      ],
      "text/plain": [
       "                        domain_name  count\n",
       "37                  news.ltn.com.tw    678\n",
       "6                    chinatimes.com    409\n",
       "58                          udn.com    399\n",
       "53                tw.appledaily.com    347\n",
       "55           tw.news.appledaily.com    148\n",
       "30                     m.ltn.com.tw    137\n",
       "56                tw.news.yahoo.com    120\n",
       "18                      ettoday.net    112\n",
       "29                       ltn.com.tw     78\n",
       "8                        cna.com.tw     68\n",
       "32                    money.udn.com     62\n",
       "14                    ec.ltn.com.tw     57\n",
       "46                         setn.com     28\n",
       "31                   mirrormedia.mg     25\n",
       "39                 news.tvbs.com.tw     20\n",
       "3                    appledaily.com     18\n",
       "42                   nextmag.com.tw     15\n",
       "0                       .ltn.com.tw     15\n",
       "5                       cdns.com.tw     15\n",
       "59                       upmedia.mg     12\n",
       "41                       newtalk.tw      9\n",
       "57               tw.stock.yahoo.com      9\n",
       "9                               com      9\n",
       "47                         storm.mg      7\n",
       "43                      nownews.com      7\n",
       "10                       ctwant.com      7\n",
       "34                  news.ebc.net.tw      6\n",
       "61                     www.setn.com      6\n",
       "52                      tvbs.com.tw      6\n",
       "51                    today.line.me      6\n",
       "11                        cw.com.tw      6\n",
       "45                    ppledaily.com      5\n",
       "12                    e-info.org.tw      5\n",
       "64                               無效      5\n",
       "24                         hk.on.cc      5\n",
       "25                         hk01.com      5\n",
       "49                  times.hinet.net      4\n",
       "16                   epochtimes.com      4\n",
       "2                         anntw.com      4\n",
       "4              businesstoday.com.tw      4\n",
       "26                house.ettoday.net      4\n",
       "27                    ksnews.com.tw      4\n",
       "28                          line.me      4\n",
       "17                estate.ltn.com.tw      4\n",
       "40                   news.yahoo.com      4\n",
       "62                   www.upmedia.mg      3\n",
       "22                   ftvnews.com.tw      3\n",
       "33                  news.cts.com.tw      2\n",
       "1                    agriharvest.tw      2\n",
       "63                               失效      2\n",
       "35                  news.ftv.com.tw      2\n",
       "20              features.ltn.com.tw      2\n",
       "21                   fnc.ebc.net.tw      2\n",
       "15                   ent.ltn.com.tw      2\n",
       "60               www.chinatimes.com      1\n",
       "36             news.housefun.com.tw      1\n",
       "44                    peoplenews.tw      1\n",
       "23                gotv.ctitv.com.tw      1\n",
       "7                        cib.gov.tw      1\n",
       "38               news.pchome.com.tw      1\n",
       "13                       ebc.net.tw      1\n",
       "50                   tock.yahoo.com      1\n",
       "48                taiwannews.com.tw      1\n",
       "19                    ews.yahoo.com      1\n",
       "54  tw.entertainment.appledaily.com      1"
      ]
     },
     "execution_count": 8,
     "metadata": {},
     "output_type": "execute_result"
    }
   ],
   "source": [
    "pd_view"
   ]
  },
  {
   "cell_type": "code",
   "execution_count": 19,
   "metadata": {},
   "outputs": [
    {
     "data": {
      "text/plain": [
       "(2549, 5)"
      ]
     },
     "execution_count": 19,
     "metadata": {},
     "output_type": "execute_result"
    }
   ],
   "source": [
    "df_all.dropna(inplace=True)\n",
    "df_all.shape"
   ]
  },
  {
   "cell_type": "code",
   "execution_count": 22,
   "metadata": {},
   "outputs": [],
   "source": [
    "ltn = sum(df_all['domain_name'].str.contains('ltn'))/df_all.shape[0]*100\n",
    "chinatimes = sum(df_all['domain_name'].str.contains('chinatimes'))/df_all.shape[0]*100\n",
    "udn = sum(df_all['domain_name'].str.contains('udn'))/df_all.shape[0]*100\n",
    "ettoday = sum(df_all['domain_name'].str.contains('ettoday'))/df_all.shape[0]*100\n",
    "appledaily = sum(df_all['domain_name'].str.contains('appledaily'))/df_all.shape[0]*100\n",
    "cna = sum(df_all['domain_name'].str.contains('cna'))/df_all.shape[0]*100\n",
    "setn = sum(df_all['domain_name'].str.contains('setn'))/df_all.shape[0]*100\n",
    "yahoo = sum(df_all['domain_name'].str.contains('yahoo'))/df_all.shape[0]*100\n",
    "mirrormedia = sum(df_all['domain_name'].str.contains('mirrormedia'))/df_all.shape[0]*100\n",
    "tvbs = sum(df_all['domain_name'].str.contains('tvbs'))/df_all.shape[0]*100"
   ]
  },
  {
   "cell_type": "code",
   "execution_count": 26,
   "metadata": {},
   "outputs": [
    {
     "name": "stdout",
     "output_type": "stream",
     "text": [
      "ltn in total:         32.91 %\n",
      "appledaily in total:  18.48 %\n",
      "udn in total:         17.58 %\n",
      "chinatimes in total:  12.51 %\n",
      "ettoday in total:     4.32 %\n",
      "yahoo in total:       3.84 %\n",
      "cna in total:         2.63 %\n",
      "setn in total:        1.14 %\n",
      "mirrormedia in total: 0.78 %\n",
      "tvbs in total:        0.71 %\n"
     ]
    }
   ],
   "source": [
    "print('ltn in total:         {:0.2f} %'.format(ltn))\n",
    "print('appledaily in total:  {:0.2f} %'.format(appledaily))\n",
    "print('udn in total:         {:0.2f} %'.format(udn))\n",
    "print('chinatimes in total:  {:0.2f} %'.format(chinatimes))\n",
    "print('ettoday in total:     {:0.2f} %'.format(ettoday))\n",
    "print('yahoo in total:       {:0.2f} %'.format(yahoo))\n",
    "print('cna in total:         {:0.2f} %'.format(cna))\n",
    "print('setn in total:        {:0.2f} %'.format(setn))\n",
    "print('mirrormedia in total: {:0.2f} %'.format(mirrormedia))\n",
    "print('tvbs in total:        {:0.2f} %'.format(tvbs))\n"
   ]
  },
  {
   "cell_type": "code",
   "execution_count": 27,
   "metadata": {},
   "outputs": [
    {
     "data": {
      "image/png": "[encoded data removed]",
      "text/plain": [
       "<Figure size 432x288 with 1 Axes>"
      ]
     },
     "metadata": {},
     "output_type": "display_data"
    }
   ],
   "source": [
    "my_data = [ltn,appledaily,udn,chinatimes,ettoday,yahoo,cna,setn,mirrormedia,tvbs]\n",
    "my_labels = 'ltn','appledaily','udn','chinatimes','ettoday','yahoo','cna','setn','mirrormedia','tvbs'\n",
    "plt.pie(my_data,labels=my_labels,autopct='%1.1f%%')\n",
    "plt.title('domain in total')\n",
    "plt.axis('equal')\n",
    "plt.show()"
   ]
  },
  {
   "cell_type": "code",
   "execution_count": 50,
   "metadata": {},
   "outputs": [],
   "source": [
    "ltn_society = sum((df_all['相關連結'].str.contains('ltn')) & (df_all['相關連結'].str.contains('society')))/sum(df_all['domain_name'].str.contains('ltn'))*100"
   ]
  },
  {
   "cell_type": "code",
   "execution_count": 51,
   "metadata": {},
   "outputs": [
    {
     "data": {
      "text/plain": [
       "81.76400476758046"
      ]
     },
     "execution_count": 51,
     "metadata": {},
     "output_type": "execute_result"
    }
   ],
   "source": [
    "ltn_society"
   ]
  },
  {
   "cell_type": "code",
   "execution_count": 56,
   "metadata": {},
   "outputs": [],
   "source": [
    "chinatimes_realtime = sum((df_all['相關連結'].str.contains('chinatimes')) & (df_all['相關連結'].str.contains('realtimenews')))/sum(df_all['domain_name'].str.contains('chinatimes'))*100"
   ]
  },
  {
   "cell_type": "code",
   "execution_count": 57,
   "metadata": {},
   "outputs": [
    {
     "data": {
      "text/plain": [
       "83.07210031347962"
      ]
     },
     "execution_count": 57,
     "metadata": {},
     "output_type": "execute_result"
    }
   ],
   "source": [
    "chinatimes_realtime"
   ]
  },
  {
   "cell_type": "code",
   "execution_count": 68,
   "metadata": {},
   "outputs": [],
   "source": [
    "appledaily_realtime = sum((df_all['相關連結'].str.contains('appledaily')) & (df_all['相關連結'].str.contains('realtime')))/sum(df_all['domain_name'].str.contains('appledaily'))*100"
   ]
  },
  {
   "cell_type": "code",
   "execution_count": 69,
   "metadata": {},
   "outputs": [
    {
     "data": {
      "text/plain": [
       "81.52866242038218"
      ]
     },
     "execution_count": 69,
     "metadata": {},
     "output_type": "execute_result"
    }
   ],
   "source": [
    "appledaily_realtime"
   ]
  },
  {
   "cell_type": "code",
   "execution_count": 78,
   "metadata": {},
   "outputs": [],
   "source": [
    "udn_money_story = sum((df_all['相關連結'].str.contains('udn')) & (df_all['相關連結'].str.contains('story'))& (df_all['相關連結'].str.contains('money')))/sum(df_all['domain_name'].str.contains('udn'))*100"
   ]
  },
  {
   "cell_type": "code",
   "execution_count": 79,
   "metadata": {},
   "outputs": [
    {
     "data": {
      "text/plain": [
       "13.839285714285715"
      ]
     },
     "execution_count": 79,
     "metadata": {},
     "output_type": "execute_result"
    }
   ],
   "source": [
    "udn_money_story"
   ]
  },
  {
   "cell_type": "code",
   "execution_count": 76,
   "metadata": {},
   "outputs": [],
   "source": [
    "udn_news_story = sum((df_all['相關連結'].str.contains('udn')) & (df_all['相關連結'].str.contains('story'))& (df_all['相關連結'].str.contains('news')))/sum(df_all['domain_name'].str.contains('udn'))*100"
   ]
  },
  {
   "cell_type": "code",
   "execution_count": 77,
   "metadata": {},
   "outputs": [
    {
     "data": {
      "text/plain": [
       "90.17857142857143"
      ]
     },
     "execution_count": 77,
     "metadata": {},
     "output_type": "execute_result"
    }
   ],
   "source": [
    "udn_news_story"
   ]
  },
  {
   "cell_type": "code",
   "execution_count": null,
   "metadata": {},
   "outputs": [],
   "source": [
    "udn_news_story = sum((df_all['相關連結'].str.contains('udn')) & (df_all['相關連結'].str.contains('story'))& (df_all['相關連結'].str.contains('news')))/sum(df_all['domain_name'].str.contains('udn'))*100"
   ]
  },
  {
   "cell_type": "code",
   "execution_count": 90,
   "metadata": {},
   "outputs": [],
   "source": [
    "ettoday= sum(df_all['相關連結'].str.contains('ettoday.net/news')) /sum(df_all['domain_name'].str.contains('ettoday'))*100"
   ]
  },
  {
   "cell_type": "code",
   "execution_count": 91,
   "metadata": {},
   "outputs": [
    {
     "data": {
      "text/plain": [
       "104.54545454545455"
      ]
     },
     "execution_count": 91,
     "metadata": {},
     "output_type": "execute_result"
    }
   ],
   "source": [
    "ettoday"
   ]
  },
  {
   "cell_type": "code",
   "execution_count": null,
   "metadata": {},
   "outputs": [],
   "source": []
  }
 ],
 "metadata": {
  "kernelspec": {
   "display_name": "negative_news",
   "language": "python",
   "name": "negative_news"
  },
  "language_info": {
   "codemirror_mode": {
    "name": "ipython",
    "version": 3
   },
   "file_extension": ".py",
   "mimetype": "text/x-python",
   "name": "python",
   "nbconvert_exporter": "python",
   "pygments_lexer": "ipython3",
   "version": "3.7.9"
  }
 },
 "nbformat": 4,
 "nbformat_minor": 4
}
